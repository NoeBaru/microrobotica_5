{
 "cells": [
  {
   "cell_type": "markdown",
   "id": "ed086669-254b-47fd-9830-e2fc7af4d3d5",
   "metadata": {},
   "source": [
    "# ES34\n",
    "## Noemi Baruffolo 5^AROB\n",
    "### Dati degli USA sulle sigarette"
   ]
  },
  {
   "cell_type": "code",
   "execution_count": 2,
   "id": "102e260d-3a8a-4f12-af83-a4836206575a",
   "metadata": {},
   "outputs": [],
   "source": [
    "import numpy as np\n",
    "import matplotlib.pyplot as plt\n",
    "import pandas as pd\n",
    "from sklearn.model_selection import train_test_split\n",
    "from sklearn.linear_model import LinearRegression\n",
    "from sklearn.metrics import r2_score\n",
    "from sklearn.preprocessing import  LabelEncoder\n",
    "from sklearn.neural_network import MLPClassifier"
   ]
  },
  {
   "cell_type": "code",
   "execution_count": 4,
   "id": "33987d4f-8d01-4611-a7ae-370bbc1f0597",
   "metadata": {},
   "outputs": [
    {
     "data": {
      "text/html": [
       "<div>\n",
       "<style scoped>\n",
       "    .dataframe tbody tr th:only-of-type {\n",
       "        vertical-align: middle;\n",
       "    }\n",
       "\n",
       "    .dataframe tbody tr th {\n",
       "        vertical-align: top;\n",
       "    }\n",
       "\n",
       "    .dataframe thead th {\n",
       "        text-align: right;\n",
       "    }\n",
       "</style>\n",
       "<table border=\"1\" class=\"dataframe\">\n",
       "  <thead>\n",
       "    <tr style=\"text-align: right;\">\n",
       "      <th></th>\n",
       "      <th>Year</th>\n",
       "      <th>Entity</th>\n",
       "      <th>Code</th>\n",
       "      <th>Sales of cigarettes per adult per day</th>\n",
       "      <th>age-standardized_death_rate_per_100k_male</th>\n",
       "      <th>age-standardized_death_rate_per_100k_female</th>\n",
       "    </tr>\n",
       "  </thead>\n",
       "  <tbody>\n",
       "    <tr>\n",
       "      <th>0</th>\n",
       "      <td>1900</td>\n",
       "      <td>United States</td>\n",
       "      <td>USA</td>\n",
       "      <td>0.1</td>\n",
       "      <td>NaN</td>\n",
       "      <td>NaN</td>\n",
       "    </tr>\n",
       "    <tr>\n",
       "      <th>1</th>\n",
       "      <td>1901</td>\n",
       "      <td>United States</td>\n",
       "      <td>USA</td>\n",
       "      <td>0.1</td>\n",
       "      <td>NaN</td>\n",
       "      <td>NaN</td>\n",
       "    </tr>\n",
       "    <tr>\n",
       "      <th>2</th>\n",
       "      <td>1902</td>\n",
       "      <td>United States</td>\n",
       "      <td>USA</td>\n",
       "      <td>0.1</td>\n",
       "      <td>NaN</td>\n",
       "      <td>NaN</td>\n",
       "    </tr>\n",
       "    <tr>\n",
       "      <th>3</th>\n",
       "      <td>1903</td>\n",
       "      <td>United States</td>\n",
       "      <td>USA</td>\n",
       "      <td>0.1</td>\n",
       "      <td>NaN</td>\n",
       "      <td>NaN</td>\n",
       "    </tr>\n",
       "    <tr>\n",
       "      <th>4</th>\n",
       "      <td>1904</td>\n",
       "      <td>United States</td>\n",
       "      <td>USA</td>\n",
       "      <td>0.2</td>\n",
       "      <td>NaN</td>\n",
       "      <td>NaN</td>\n",
       "    </tr>\n",
       "  </tbody>\n",
       "</table>\n",
       "</div>"
      ],
      "text/plain": [
       "   Year         Entity Code  Sales of cigarettes per adult per day  \\\n",
       "0  1900  United States  USA                                    0.1   \n",
       "1  1901  United States  USA                                    0.1   \n",
       "2  1902  United States  USA                                    0.1   \n",
       "3  1903  United States  USA                                    0.1   \n",
       "4  1904  United States  USA                                    0.2   \n",
       "\n",
       "   age-standardized_death_rate_per_100k_male  \\\n",
       "0                                        NaN   \n",
       "1                                        NaN   \n",
       "2                                        NaN   \n",
       "3                                        NaN   \n",
       "4                                        NaN   \n",
       "\n",
       "   age-standardized_death_rate_per_100k_female  \n",
       "0                                          NaN  \n",
       "1                                          NaN  \n",
       "2                                          NaN  \n",
       "3                                          NaN  \n",
       "4                                          NaN  "
      ]
     },
     "execution_count": 4,
     "metadata": {},
     "output_type": "execute_result"
    }
   ],
   "source": [
    "data = pd.read_csv(\"csv/data.csv\", na_values = [-99999.0])\n",
    "data.head()"
   ]
  },
  {
   "cell_type": "code",
   "execution_count": 6,
   "id": "dd7a0328-f5c7-44ad-ab4c-d89f8c345dfe",
   "metadata": {},
   "outputs": [],
   "source": [
    "year = data[\"Year\"].to_numpy() #oppure .values\n",
    "sales = data[\"Sales of cigarettes per adult per day\"].to_numpy()\n",
    "rateMale = data[\"age-standardized_death_rate_per_100k_male\"].to_numpy()\n",
    "rateFemale = data[\"age-standardized_death_rate_per_100k_female\"].to_numpy()"
   ]
  },
  {
   "cell_type": "code",
   "execution_count": 26,
   "id": "f9f530d9-474a-4b1b-a5bd-63ac627cf22f",
   "metadata": {},
   "outputs": [
    {
     "data": {
      "image/png": "[encoded data removed]",
      "text/plain": [
       "<Figure size 400x400 with 2 Axes>"
      ]
     },
     "metadata": {},
     "output_type": "display_data"
    }
   ],
   "source": [
    "fig, ax = plt.subplots(nrows = 2, figsize = (4, 4), sharex = True) #condivide gli anni nei grafici perché sono uguali\n",
    "ax[0].plot(year, sales) #se uso np.roll(sales, 20) shifta tutto a destra di 20\n",
    "ax[0].set_xlabel(\"Anno\")\n",
    "ax[0].set_ylabel(\"Vendite\")\n",
    "ax[0].set_title(\"Dati sigarette USA\")\n",
    "ax[1].plot(year, rateFemale, color = \"violet\", label = \"femmine\")\n",
    "ax[1].plot(year, rateMale, color = \"blue\", label = \"maschi\")\n",
    "ax[1].set_xlabel(\"Anno\")\n",
    "ax[1].set_ylabel(\"Tasso di mortalità\")\n",
    "plt.show()"
   ]
  },
  {
   "cell_type": "code",
   "execution_count": null,
   "id": "9d24a6b4-e65e-4d89-aef0-0a6ab107b318",
   "metadata": {},
   "outputs": [
    {
     "name": "stdout",
     "output_type": "stream",
     "text": [
      "20 -> 0.9523599621979915\n"
     ]
    }
   ],
   "source": [
    "# creo un dataframe con i valori spostati di 10 e usando i dati dei maschi veri che ho\n",
    "lag = 20\n",
    "salesLag = np.roll(sales, lag)\n",
    "dataLag = pd.DataFrame({\"Sales lagged\": salesLag, \"Rate male\": rateMale})\n",
    "#rimuovo i valori nulli\n",
    "dataLag.dropna(inplace = True) #usando inplace non devo assegnare\n",
    "x = dataLag[\"Sales lagged\"].to_numpy() #la x è minuscola perché abbiamo solo una feature\n",
    "y = dataLag[\"Rate male\"].to_numpy()\n",
    "model = LinearRegression(fit_intercept =  True)  \n",
    "model.fit(x.reshape(-1, 1), y)\n",
    "model.score(x.reshape(-1, 1), y)\n",
    "r2 = model.score(x.reshape(-1, 1), y)\n",
    "print(f\"{lag} -> {r2}\")"
   ]
  },
  {
   "cell_type": "code",
   "execution_count": 48,
   "id": "96292b72-a77f-404c-b97a-e73fa06cc07e",
   "metadata": {},
   "outputs": [
    {
     "name": "stdout",
     "output_type": "stream",
     "text": [
      "5 -> 0.025490668851077203\n",
      "6 -> 0.05452378676818048\n",
      "7 -> 0.08722004529957006\n",
      "8 -> 0.13200826623555573\n",
      "9 -> 0.19355886070861628\n",
      "10 -> 0.26858617209578095\n",
      "11 -> 0.35316480156825314\n",
      "12 -> 0.44502057184700095\n",
      "13 -> 0.5412749079406073\n",
      "14 -> 0.63453834986617\n",
      "15 -> 0.7247155006359031\n",
      "16 -> 0.805384144408176\n",
      "17 -> 0.8709420368570322\n",
      "18 -> 0.9142473670162777\n",
      "19 -> 0.9412683795597212\n",
      "20 -> 0.9523599621979915\n",
      "21 -> 0.9467190144883167\n",
      "22 -> 0.9278052221902825\n",
      "23 -> 0.899227953172586\n",
      "24 -> 0.8623099116891824\n",
      "25 -> 0.8241429132407116\n",
      "26 -> 0.7830149248547218\n",
      "27 -> 0.7447620879208229\n",
      "28 -> 0.7067542629501469\n",
      "29 -> 0.670663029543896\n"
     ]
    }
   ],
   "source": [
    "for lag in range(5, 30):\n",
    "    salesLag = np.roll(sales, lag)\n",
    "    dataLag = pd.DataFrame({\"Sales lagged\": salesLag, \"Rate male\": rateMale})\n",
    "    #rimuovo i valori nulli\n",
    "    dataLag.dropna(inplace = True) #usando inplace non devo assegnare\n",
    "    x = dataLag[\"Sales lagged\"].to_numpy() #la x è minuscola perché abbiamo solo una feature\n",
    "    y = dataLag[\"Rate male\"].to_numpy()\n",
    "    model = LinearRegression(fit_intercept =  True)\n",
    "    model.fit(x.reshape(-1, 1), y)\n",
    "    model.score(x.reshape(-1, 1), y)\n",
    "    r2 = model.score(x.reshape(-1, 1), y)\n",
    "    print(f\"{lag} -> {r2}\")"
   ]
  },
  {
   "cell_type": "markdown",
   "id": "0d4b75bc-c25d-4721-b59c-1df094f4ef21",
   "metadata": {},
   "source": [
    "### Riusciamo a prevedere la mortalità  dal dato delle vendite delle sigarette se laggo le vendite di 20 anni, c'è un acorrelazione tra le vendite di sigaette e le malattie cardiorespiratorie (o polmonari, boh). \n",
    "### La regressione è stata usata per fare un'analisi scientifica e non un aprevisione dei dati"
   ]
  },
  {
   "cell_type": "code",
   "execution_count": null,
   "id": "79dc121e-d140-415f-87da-de26e75ec345",
   "metadata": {},
   "outputs": [],
   "source": []
  }
 ],
 "metadata": {
  "kernelspec": {
   "display_name": "Python 3 (ipykernel)",
   "language": "python",
   "name": "python3"
  },
  "language_info": {
   "codemirror_mode": {
    "name": "ipython",
    "version": 3
   },
   "file_extension": ".py",
   "mimetype": "text/x-python",
   "name": "python",
   "nbconvert_exporter": "python",
   "pygments_lexer": "ipython3",
   "version": "3.12.4"
  }
 },
 "nbformat": 4,
 "nbformat_minor": 5
}
