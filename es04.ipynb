{
 "cells": [
  {
   "cell_type": "markdown",
   "id": "b457547c-3a83-454b-a4f4-0e50e55acb4f",
   "metadata": {},
   "source": [
    "# ES04\n",
    "## Noemi Baruffolo 5^AROB"
   ]
  },
  {
   "cell_type": "code",
   "execution_count": 111,
   "id": "9129fd2b-4daf-4cc2-8f28-4b0a25d4eeed",
   "metadata": {},
   "outputs": [],
   "source": [
    "import numpy as np\n",
    "import matplotlib.pyplot as plt"
   ]
  },
  {
   "cell_type": "markdown",
   "id": "2ba98607-e319-4466-8bb9-927798190c7f",
   "metadata": {},
   "source": [
    "aggiungo le cose fatte mentre non stavo bene"
   ]
  },
  {
   "cell_type": "markdown",
   "id": "6045bc69-1fc3-4722-a3ac-9c7236a97b3e",
   "metadata": {},
   "source": [
    "### Generazioni array pseudo-casuali"
   ]
  },
  {
   "cell_type": "code",
   "execution_count": 69,
   "id": "7c3c583b-00b0-4e2c-a91c-d573222abe9e",
   "metadata": {},
   "outputs": [
    {
     "data": {
      "text/plain": [
       "array([3, 5, 3, 6, 3, 4, 2, 5, 1, 3, 6, 4])"
      ]
     },
     "execution_count": 69,
     "metadata": {},
     "output_type": "execute_result"
    }
   ],
   "source": [
    "# generazione di numeri pseudo-casuali interi\n",
    "np.random.randint(1, 7, 12) #genera 12 numeri, a 1 a 6, il 7 è escluso"
   ]
  },
  {
   "cell_type": "markdown",
   "id": "d9178af6-2907-4b0f-a950-c7ad06d3314a",
   "metadata": {},
   "source": [
    "## Esercizio: simula una partita a dadi con n lanci tra Alice e Bob"
   ]
  },
  {
   "cell_type": "code",
   "execution_count": 72,
   "id": "adb19406-4550-4bef-a5cb-e658e55a8436",
   "metadata": {},
   "outputs": [],
   "source": [
    "n = 10\n",
    "alice = np.random.randint(1, 7, n)\n",
    "bob = np.random.randint(1, 7, n)"
   ]
  },
  {
   "cell_type": "code",
   "execution_count": 74,
   "id": "e2e885c4-15b3-4317-89b4-49f63470d790",
   "metadata": {},
   "outputs": [
    {
     "name": "stdout",
     "output_type": "stream",
     "text": [
      "lanci di Alice: [4 2 5 1 6 4 5 6 2 2]\n",
      "lanci di Bob: [4 4 4 6 2 2 5 5 4 5]\n"
     ]
    }
   ],
   "source": [
    "print(f\"lanci di Alice: {alice}\")\n",
    "print(f\"lanci di Bob: {bob}\")"
   ]
  },
  {
   "cell_type": "markdown",
   "id": "06aca06c-ad72-41bf-9800-848a248e7566",
   "metadata": {},
   "source": [
    "Quante volte vince Alice?"
   ]
  },
  {
   "cell_type": "code",
   "execution_count": 77,
   "id": "c913f2a1-cdcf-489b-b182-cc253a55c20f",
   "metadata": {},
   "outputs": [
    {
     "data": {
      "text/plain": [
       "dtype('int32')"
      ]
     },
     "execution_count": 77,
     "metadata": {},
     "output_type": "execute_result"
    }
   ],
   "source": [
    "alice.dtype"
   ]
  },
  {
   "cell_type": "code",
   "execution_count": 79,
   "id": "f7dfa15f-2218-48fb-b52d-f4d4a1f84599",
   "metadata": {},
   "outputs": [
    {
     "data": {
      "text/plain": [
       "array([False, False,  True, False,  True,  True, False,  True, False,\n",
       "       False])"
      ]
     },
     "execution_count": 79,
     "metadata": {},
     "output_type": "execute_result"
    }
   ],
   "source": [
    "aliceVince = alice > bob #funziona se gli array sono lunghi uguali\n",
    "aliceVince"
   ]
  },
  {
   "cell_type": "code",
   "execution_count": 81,
   "id": "7e1fbc43-edec-442d-940f-6f5afbf3d1f4",
   "metadata": {},
   "outputs": [
    {
     "data": {
      "text/plain": [
       "dtype('bool')"
      ]
     },
     "execution_count": 81,
     "metadata": {},
     "output_type": "execute_result"
    }
   ],
   "source": [
    "aliceVince.dtype"
   ]
  },
  {
   "cell_type": "code",
   "execution_count": 83,
   "id": "469bf948-fe6e-42aa-a1b7-e6ac05fb2a6c",
   "metadata": {},
   "outputs": [
    {
     "name": "stdout",
     "output_type": "stream",
     "text": [
      "Alice vince 4 volt*\n"
     ]
    }
   ],
   "source": [
    "print(f\"Alice vince {np.count_nonzero(aliceVince)} volt*\") #conta i true (non falsi)"
   ]
  },
  {
   "cell_type": "markdown",
   "id": "e1a07e20-7584-4cde-998a-42642855ac53",
   "metadata": {},
   "source": [
    "Quali sono i punteggi di Alice quando vince?"
   ]
  },
  {
   "cell_type": "code",
   "execution_count": 86,
   "id": "3dd26c61-86cd-4ca7-82a1-0f58a7379016",
   "metadata": {},
   "outputs": [
    {
     "data": {
      "text/plain": [
       "array([5, 6, 4, 6])"
      ]
     },
     "execution_count": 86,
     "metadata": {},
     "output_type": "execute_result"
    }
   ],
   "source": [
    "alice[aliceVince] #indicizzazione booleana, tira fuori i valori True"
   ]
  },
  {
   "cell_type": "markdown",
   "id": "31a4b83a-64b9-44ba-8c9f-d60edca49a9b",
   "metadata": {},
   "source": [
    "Bob è disonesto: quindi quando perde manomette il suo punteggio, portandolo a 6.\n",
    "Manomettere l'array dei punteggi di Bob"
   ]
  },
  {
   "cell_type": "code",
   "execution_count": 89,
   "id": "09c817bc-60c8-497e-9d91-4499ef5efc5a",
   "metadata": {},
   "outputs": [
    {
     "data": {
      "text/plain": [
       "array([False, False,  True, False,  True,  True, False,  True, False,\n",
       "       False])"
      ]
     },
     "execution_count": 89,
     "metadata": {},
     "output_type": "execute_result"
    }
   ],
   "source": [
    "bobPerde = bob < alice\n",
    "bobPerde"
   ]
  },
  {
   "cell_type": "code",
   "execution_count": 91,
   "id": "49f2f3b0-c9a2-4f9a-83a9-84899a5a77a2",
   "metadata": {},
   "outputs": [
    {
     "data": {
      "text/plain": [
       "array([4, 4, 6, 6, 6, 6, 5, 6, 4, 5])"
      ]
     },
     "execution_count": 91,
     "metadata": {},
     "output_type": "execute_result"
    }
   ],
   "source": [
    "bob[bobPerde] = 6 #indicizzazione booleana, tira fuori i valori True\n",
    "bob"
   ]
  },
  {
   "cell_type": "code",
   "execution_count": 93,
   "id": "243a20a5-65d6-439a-90c1-b08b244e8f4d",
   "metadata": {},
   "outputs": [
    {
     "name": "stdout",
     "output_type": "stream",
     "text": [
      "Bob perde 4 volt*\n"
     ]
    }
   ],
   "source": [
    "print(f\"Bob perde {np.count_nonzero(bobPerde)} volt*\")"
   ]
  },
  {
   "cell_type": "code",
   "execution_count": 95,
   "id": "f7dc374d-eaac-4505-a16e-09595db8399a",
   "metadata": {},
   "outputs": [
    {
     "data": {
      "text/plain": [
       "array([ True,  True, False,  True, False, False,  True, False,  True,\n",
       "        True])"
      ]
     },
     "execution_count": 95,
     "metadata": {},
     "output_type": "execute_result"
    }
   ],
   "source": [
    "np.logical_not(bobPerde) #inverte l'array"
   ]
  },
  {
   "cell_type": "markdown",
   "id": "1abf7334-b259-46bd-802b-b14f7e944a55",
   "metadata": {},
   "source": [
    "## ARRAY 2D"
   ]
  },
  {
   "cell_type": "code",
   "execution_count": 117,
   "id": "f55505a4-ed57-4a8a-a14a-f4b8ed6a9c6e",
   "metadata": {},
   "outputs": [
    {
     "data": {
      "text/plain": [
       "array([[0. , 0. , 0. , 0. , 0. , 0. , 0. , 0. , 0. , 0. ],\n",
       "       [0. , 0. , 0. , 0. , 0. , 0. , 0. , 0. , 0. , 0. ],\n",
       "       [0. , 0. , 0. , 0. , 0. , 0. , 0. , 0.5, 0. , 0. ],\n",
       "       [0. , 0. , 0. , 0. , 0. , 0. , 0. , 0. , 0. , 0. ],\n",
       "       [0. , 0. , 0. , 0. , 0. , 1. , 0. , 0. , 0. , 0. ],\n",
       "       [0. , 0. , 0. , 0. , 0. , 0. , 0. , 0. , 0. , 0. ],\n",
       "       [0. , 0. , 0. , 0. , 0. , 0. , 0. , 0. , 0. , 0. ],\n",
       "       [0. , 0. , 0. , 0. , 0. , 0. , 0. , 0. , 0. , 0. ],\n",
       "       [0. , 0. , 0. , 0. , 0. , 0. , 0. , 0. , 0. , 0. ],\n",
       "       [0. , 0. , 0. , 0. , 0. , 0. , 0. , 0. , 0. , 0. ]])"
      ]
     },
     "execution_count": 117,
     "metadata": {},
     "output_type": "execute_result"
    }
   ],
   "source": [
    "array2d = np.zeros((10, 10))\n",
    "array2d[4, 5] = 1 #4(y) e 5(x), riga e colonna\n",
    "array2d[2, 7] = 0.5\n",
    "array2d"
   ]
  },
  {
   "cell_type": "code",
   "execution_count": 119,
   "id": "d4c2ad3f-d827-46ce-81a0-98c291a7f413",
   "metadata": {},
   "outputs": [
    {
     "data": {
      "text/plain": [
       "<matplotlib.image.AxesImage at 0x282830a1d30>"
      ]
     },
     "execution_count": 119,
     "metadata": {},
     "output_type": "execute_result"
    },
    {
     "data": {
      "image/png": "[encoded data removed]",
      "text/plain": [
       "<Figure size 640x480 with 1 Axes>"
      ]
     },
     "metadata": {},
     "output_type": "display_data"
    }
   ],
   "source": [
    "plt.imshow(array2d, cmap=\"Greys\")"
   ]
  },
  {
   "cell_type": "markdown",
   "id": "07a5b90d-9171-45e1-a86f-c5e01c665d61",
   "metadata": {},
   "source": [
    "una matrice 10x10 una riga bianca e una nera"
   ]
  },
  {
   "cell_type": "code",
   "execution_count": 128,
   "id": "68556fdc-7419-46ba-bcb8-6e6634eb6c3f",
   "metadata": {},
   "outputs": [
    {
     "data": {
      "text/plain": [
       "array([[0., 0., 0., 0., 0., 0., 0., 0., 0., 0.],\n",
       "       [1., 1., 1., 1., 1., 1., 1., 1., 1., 1.],\n",
       "       [0., 0., 0., 0., 0., 0., 0., 0., 0., 0.],\n",
       "       [1., 1., 1., 1., 1., 1., 1., 1., 1., 1.],\n",
       "       [0., 0., 0., 0., 0., 0., 0., 0., 0., 0.],\n",
       "       [1., 1., 1., 1., 1., 1., 1., 1., 1., 1.],\n",
       "       [0., 0., 0., 0., 0., 0., 0., 0., 0., 0.],\n",
       "       [1., 1., 1., 1., 1., 1., 1., 1., 1., 1.],\n",
       "       [0., 0., 0., 0., 0., 0., 0., 0., 0., 0.],\n",
       "       [1., 1., 1., 1., 1., 1., 1., 1., 1., 1.]])"
      ]
     },
     "execution_count": 128,
     "metadata": {},
     "output_type": "execute_result"
    }
   ],
   "source": [
    "array2d_1010 = np.zeros((10, 10))\n",
    "array2d_1010[1::2] = 1\n",
    "array2d_1010"
   ]
  },
  {
   "cell_type": "code",
   "execution_count": 132,
   "id": "8e861069-a53b-4f49-9fd8-601059a1d96a",
   "metadata": {},
   "outputs": [
    {
     "data": {
      "text/plain": [
       "<matplotlib.image.AxesImage at 0x282830a2f90>"
      ]
     },
     "execution_count": 132,
     "metadata": {},
     "output_type": "execute_result"
    },
    {
     "data": {
      "image/png": "[encoded data removed]",
      "text/plain": [
       "<Figure size 640x480 with 1 Axes>"
      ]
     },
     "metadata": {},
     "output_type": "display_data"
    }
   ],
   "source": [
    "plt.imshow(array2d_1010, cmap=\"Greys\")"
   ]
  },
  {
   "cell_type": "markdown",
   "id": "76488cf0-1f74-4a67-8fd0-90986b264353",
   "metadata": {},
   "source": [
    "Creare una scacchiera 8x8 senza usare un for"
   ]
  },
  {
   "cell_type": "code",
   "execution_count": 195,
   "id": "c9e1c9f2-1f83-45c8-9f0c-04de6aa5143c",
   "metadata": {},
   "outputs": [
    {
     "data": {
      "text/plain": [
       "array([[1., 1., 1., 1., 1., 1., 1., 1.],\n",
       "       [0., 0., 0., 0., 0., 0., 0., 0.],\n",
       "       [1., 1., 1., 1., 1., 1., 1., 1.],\n",
       "       [0., 0., 0., 0., 0., 0., 0., 0.],\n",
       "       [1., 1., 1., 1., 1., 1., 1., 1.],\n",
       "       [0., 0., 0., 0., 0., 0., 0., 0.],\n",
       "       [1., 1., 1., 1., 1., 1., 1., 1.],\n",
       "       [0., 0., 0., 0., 0., 0., 0., 0.]])"
      ]
     },
     "execution_count": 195,
     "metadata": {},
     "output_type": "execute_result"
    }
   ],
   "source": [
    "array2d_scacchiera = np.zeros((8, 8))\n",
    "# array2d_scacchiera[0::2] = 1 NO\n",
    "array2d_scacchiera"
   ]
  },
  {
   "cell_type": "code",
   "execution_count": null,
   "id": "03716629-98b8-4c8a-8747-6983898b8227",
   "metadata": {},
   "outputs": [],
   "source": [
    "plt.imshow(array2d_scacchiera, cmap=\"Greys\")"
   ]
  }
 ],
 "metadata": {
  "kernelspec": {
   "display_name": "Python 3 (ipykernel)",
   "language": "python",
   "name": "python3"
  },
  "language_info": {
   "codemirror_mode": {
    "name": "ipython",
    "version": 3
   },
   "file_extension": ".py",
   "mimetype": "text/x-python",
   "name": "python",
   "nbconvert_exporter": "python",
   "pygments_lexer": "ipython3",
   "version": "3.12.4"
  }
 },
 "nbformat": 4,
 "nbformat_minor": 5
}
