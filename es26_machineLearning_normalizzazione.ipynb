{
 "cells": [
  {
   "cell_type": "markdown",
   "id": "49de95be-a2b6-43e3-a41e-766ffea1e6a2",
   "metadata": {},
   "source": [
    "# ES26\n",
    "## Noemi Baruffolo 5^AROB\n",
    "### normalizzazione"
   ]
  },
  {
   "cell_type": "code",
   "execution_count": 2,
   "id": "a3c3179f-5a16-4e1a-af2d-9d9c70fd1741",
   "metadata": {},
   "outputs": [],
   "source": [
    "import numpy as np\n",
    "import pandas as pd\n",
    "import matplotlib.pyplot as plt"
   ]
  },
  {
   "cell_type": "markdown",
   "id": "6da02aaf-5272-4581-8f1c-19caa0165aa8",
   "metadata": {},
   "source": [
    "### La procedura di normalizzazione (o standardizzazione)\n",
    "\n",
    "Serve trasformare le feature di un dataset in modo che ogni feature abbia:\n",
    "* valore medio pari a 0\n",
    "* deviazione standard pari a 1"
   ]
  },
  {
   "cell_type": "markdown",
   "id": "ac9cd963-e279-495d-baf9-77d22ad82e7f",
   "metadata": {},
   "source": [
    "Realizziamo questa trasformazione con *numpy*, poi utilizzeremo una classe apposita per sklearn"
   ]
  },
  {
   "cell_type": "code",
   "execution_count": 8,
   "id": "716422ce-d17c-44bf-9295-1ba211ed6dc5",
   "metadata": {},
   "outputs": [],
   "source": [
    "peso = np.random.normal(4200, 800, 1000) #feature simulata per fare più veloce"
   ]
  },
  {
   "cell_type": "code",
   "execution_count": 14,
   "id": "da22b79b-bf0e-462c-9031-51bb193e4408",
   "metadata": {},
   "outputs": [
    {
     "data": {
      "image/png": "[encoded data removed]",
      "text/plain": [
       "<Figure size 300x200 with 1 Axes>"
      ]
     },
     "metadata": {},
     "output_type": "display_data"
    }
   ],
   "source": [
    "fig, ax = plt.subplots(figsize = (3, 2))\n",
    "ax.hist(peso, bins = 20, edgecolor = 'k')\n",
    "ax.set_xlabel(\"Peso pinguini (g)\")\n",
    "ax.set_ylabel(\"N. di pinguini\")\n",
    "plt.show()"
   ]
  },
  {
   "cell_type": "code",
   "execution_count": 18,
   "id": "94d195d9-273d-4042-9bf0-b58da18b07e7",
   "metadata": {},
   "outputs": [
    {
     "data": {
      "text/plain": [
       "4.356479621492326e-13"
      ]
     },
     "execution_count": 18,
     "metadata": {},
     "output_type": "execute_result"
    }
   ],
   "source": [
    "pesoM0 = peso - np.mean(peso)\n",
    "np.mean(pesoM0)"
   ]
  },
  {
   "cell_type": "code",
   "execution_count": 22,
   "id": "c60e7f06-d733-46e4-afbb-a82fec68eadf",
   "metadata": {},
   "outputs": [
    {
     "data": {
      "image/png": "[encoded data removed]",
      "text/plain": [
       "<Figure size 300x200 with 1 Axes>"
      ]
     },
     "metadata": {},
     "output_type": "display_data"
    }
   ],
   "source": [
    "# rimane quasi uguale al grafico di prima, cambia solo che è centrato su zero\n",
    "fig, ax = plt.subplots(figsize = (3, 2))\n",
    "ax.hist(pesoM0, bins = 20, edgecolor = 'k')\n",
    "ax.set_xlabel(\"Peso pinguini (g)\")\n",
    "ax.set_ylabel(\"N. di pinguini\")\n",
    "plt.show()"
   ]
  },
  {
   "cell_type": "code",
   "execution_count": 38,
   "id": "8465555e-14f5-4fff-8022-cd607f841777",
   "metadata": {},
   "outputs": [
    {
     "name": "stdout",
     "output_type": "stream",
     "text": [
      "Il valore medio dei dati traformati è 0.0000\n",
      "e la deviazione standard dei dati trasformati è 1.0000\n"
     ]
    }
   ],
   "source": [
    "pesoM0S1 = pesoM0 / np.std(pesoM0)\n",
    "print(f\"Il valore medio dei dati traformati è {np.mean(pesoM0S1):.4f}\\ne la deviazione standard dei dati trasformati è {np.std(pesoM0S1):.4f}\")"
   ]
  },
  {
   "cell_type": "code",
   "execution_count": 40,
   "id": "a4988870-3a56-4a55-aafb-4d802c8f7e9e",
   "metadata": {},
   "outputs": [
    {
     "data": {
      "image/png": "[encoded data removed]",
      "text/plain": [
       "<Figure size 300x200 with 1 Axes>"
      ]
     },
     "metadata": {},
     "output_type": "display_data"
    }
   ],
   "source": [
    "# rimane quasi uguale al grafico di prima, cambia solo che è centrato su zero\n",
    "fig, ax = plt.subplots(figsize = (3, 2))\n",
    "ax.hist(pesoM0S1, bins = 20, edgecolor = 'k')\n",
    "ax.set_xlabel(\"Peso pinguini (g)\")\n",
    "ax.set_ylabel(\"N. di pinguini\")\n",
    "plt.show()"
   ]
  },
  {
   "cell_type": "markdown",
   "id": "64fa3db6-850f-43a6-ac18-31a7d59ea203",
   "metadata": {},
   "source": [
    "Facciamo la normalizzazione co una classe apposita di sklearn"
   ]
  },
  {
   "cell_type": "code",
   "execution_count": 45,
   "id": "afb083bc-1437-4b09-a49e-66f0b79fd4b4",
   "metadata": {},
   "outputs": [],
   "source": [
    "from sklearn.preprocessing import StandardScaler"
   ]
  },
  {
   "cell_type": "markdown",
   "id": "520bc417-58cb-447b-9a2b-1a802cf24d95",
   "metadata": {},
   "source": [
    "Usiamo `StandardScaler` sul nostro array fittizio, ma può essere usata anche su un intero `DataFrame`"
   ]
  },
  {
   "cell_type": "code",
   "execution_count": 58,
   "id": "e130a1e2-eeae-496d-9042-b642793698ff",
   "metadata": {},
   "outputs": [],
   "source": [
    "scaler = StandardScaler()\n",
    "pesoNormalizzato = scaler.fit_transform(peso.reshape((-1, 1))) #quando usiamo un DataFrame .reshape"
   ]
  },
  {
   "cell_type": "code",
   "execution_count": 60,
   "id": "436dca75-24ff-4f68-9b02-83a5103745ec",
   "metadata": {},
   "outputs": [
    {
     "name": "stdout",
     "output_type": "stream",
     "text": [
      "Il valore medio dei dati traformati è 0.0000\n",
      "e la deviazione standard dei dati trasformati è 1.0000\n"
     ]
    }
   ],
   "source": [
    "print(f\"Il valore medio dei dati traformati è {np.mean(pesoNormalizzato):.4f}\\ne la deviazione standard dei dati trasformati è {np.std(pesoNormalizzato):.4f}\")"
   ]
  },
  {
   "cell_type": "code",
   "execution_count": 66,
   "id": "bc72f59a-2dab-42f1-b91c-f7af0eb67e91",
   "metadata": {},
   "outputs": [
    {
     "data": {
      "text/plain": [
       "array([[-0.73956319]])"
      ]
     },
     "execution_count": 66,
     "metadata": {},
     "output_type": "execute_result"
    }
   ],
   "source": [
    "scaler.transform([[3600]]) #vedo il numero normalizzato com'è"
   ]
  },
  {
   "cell_type": "code",
   "execution_count": 68,
   "id": "4ac55402-f547-4a58-9e61-d6046507f943",
   "metadata": {},
   "outputs": [
    {
     "data": {
      "text/plain": [
       "array([[4582.0863336]])"
      ]
     },
     "execution_count": 68,
     "metadata": {},
     "output_type": "execute_result"
    }
   ],
   "source": [
    "scaler.inverse_transform([[0.5]]) #vedo che peso reale ha"
   ]
  },
  {
   "cell_type": "markdown",
   "id": "a48d53c7-be7c-45a5-8e37-bca497d47b75",
   "metadata": {},
   "source": [
    "## I labelEncoder (si usano come la normalizzazione, ma non sono legati alla normalizzazione)\n",
    "\n",
    "Si tratta di una trasformazione dei dati che consente di trasformare dati categorici con categorie di tipo stringa in dati categorici con categorie numeriche"
   ]
  },
  {
   "cell_type": "code",
   "execution_count": 72,
   "id": "f87b33af-3f91-4046-9610-1e5c8e2359f2",
   "metadata": {},
   "outputs": [],
   "source": [
    "from sklearn.preprocessing import LabelEncoder"
   ]
  },
  {
   "cell_type": "code",
   "execution_count": 76,
   "id": "f5c81b2c-1da4-4580-b1cf-f20705a9151e",
   "metadata": {},
   "outputs": [
    {
     "data": {
      "text/plain": [
       "array(['Adelie', 'Adelie', 'Chinstrap', 'Adelie', 'Gentoo', 'Adelie',\n",
       "       'Adelie', 'Gentoo', 'Chinstrap', 'Chinstrap', 'Adelie', 'Adelie',\n",
       "       'Chinstrap', 'Gentoo', 'Gentoo', 'Adelie', 'Gentoo', 'Chinstrap',\n",
       "       'Chinstrap', 'Chinstrap', 'Gentoo', 'Gentoo', 'Adelie', 'Gentoo',\n",
       "       'Chinstrap', 'Adelie', 'Gentoo', 'Adelie', 'Gentoo', 'Chinstrap',\n",
       "       'Gentoo', 'Chinstrap', 'Gentoo', 'Adelie', 'Chinstrap', 'Gentoo',\n",
       "       'Chinstrap', 'Adelie', 'Gentoo', 'Chinstrap', 'Adelie', 'Adelie',\n",
       "       'Gentoo', 'Chinstrap', 'Chinstrap', 'Gentoo', 'Adelie', 'Gentoo',\n",
       "       'Adelie', 'Adelie', 'Chinstrap', 'Gentoo', 'Adelie', 'Adelie',\n",
       "       'Adelie', 'Chinstrap', 'Chinstrap', 'Chinstrap', 'Chinstrap',\n",
       "       'Adelie', 'Chinstrap', 'Chinstrap', 'Gentoo', 'Chinstrap',\n",
       "       'Chinstrap', 'Chinstrap', 'Gentoo', 'Chinstrap', 'Adelie',\n",
       "       'Gentoo', 'Gentoo', 'Adelie', 'Chinstrap', 'Adelie', 'Chinstrap',\n",
       "       'Chinstrap', 'Chinstrap', 'Gentoo', 'Adelie', 'Adelie',\n",
       "       'Chinstrap', 'Gentoo', 'Gentoo', 'Chinstrap', 'Gentoo',\n",
       "       'Chinstrap', 'Adelie', 'Chinstrap', 'Chinstrap', 'Chinstrap',\n",
       "       'Adelie', 'Adelie', 'Gentoo', 'Adelie', 'Adelie', 'Adelie',\n",
       "       'Gentoo', 'Adelie', 'Adelie', 'Chinstrap'], dtype='<U9')"
      ]
     },
     "execution_count": 76,
     "metadata": {},
     "output_type": "execute_result"
    }
   ],
   "source": [
    "specie = np.random.choice([\"Adelie\", \"Chinstrap\", \"Gentoo\"], 100)\n",
    "specie"
   ]
  },
  {
   "cell_type": "code",
   "execution_count": 78,
   "id": "b07f2851-6c61-4715-ae8f-4516365bf77c",
   "metadata": {},
   "outputs": [
    {
     "data": {
      "text/plain": [
       "array([0, 0, 1, 0, 2, 0, 0, 2, 1, 1, 0, 0, 1, 2, 2, 0, 2, 1, 1, 1, 2, 2,\n",
       "       0, 2, 1, 0, 2, 0, 2, 1, 2, 1, 2, 0, 1, 2, 1, 0, 2, 1, 0, 0, 2, 1,\n",
       "       1, 2, 0, 2, 0, 0, 1, 2, 0, 0, 0, 1, 1, 1, 1, 0, 1, 1, 2, 1, 1, 1,\n",
       "       2, 1, 0, 2, 2, 0, 1, 0, 1, 1, 1, 2, 0, 0, 1, 2, 2, 1, 2, 1, 0, 1,\n",
       "       1, 1, 0, 0, 2, 0, 0, 0, 2, 0, 0, 1], dtype=int64)"
      ]
     },
     "execution_count": 78,
     "metadata": {},
     "output_type": "execute_result"
    }
   ],
   "source": [
    "specieEncoder = LabelEncoder()\n",
    "specieNumerica = specieEncoder.fit_transform(specie)\n",
    "specieNumerica"
   ]
  },
  {
   "cell_type": "code",
   "execution_count": 80,
   "id": "e96fc9b6-a58d-4d9d-bda4-40468967de7a",
   "metadata": {},
   "outputs": [
    {
     "data": {
      "text/plain": [
       "array(['Adelie', 'Chinstrap', 'Gentoo'], dtype='<U9')"
      ]
     },
     "execution_count": 80,
     "metadata": {},
     "output_type": "execute_result"
    }
   ],
   "source": [
    "specieEncoder.classes_ #capisce in automatico i valori"
   ]
  },
  {
   "cell_type": "code",
   "execution_count": 82,
   "id": "9cfa4cbf-576d-4d3f-9509-6d1b48a58aed",
   "metadata": {},
   "outputs": [
    {
     "data": {
      "text/plain": [
       "array([0])"
      ]
     },
     "execution_count": 82,
     "metadata": {},
     "output_type": "execute_result"
    }
   ],
   "source": [
    "specieEncoder.transform([\"Adelie\"]) #passsa dal mondo dei nomi in stringa alle categorie numeriche"
   ]
  },
  {
   "cell_type": "code",
   "execution_count": 88,
   "id": "9296bb00-aaa8-44fa-aa0e-8145c83dcd25",
   "metadata": {},
   "outputs": [
    {
     "data": {
      "text/plain": [
       "array(['Adelie'], dtype='<U9')"
      ]
     },
     "execution_count": 88,
     "metadata": {},
     "output_type": "execute_result"
    }
   ],
   "source": [
    "specieEncoder.inverse_transform([0])  #passsa dal mondo dei numeri alle categorie in stringa"
   ]
  },
  {
   "cell_type": "code",
   "execution_count": null,
   "id": "1bed1d6f-b431-4d01-b086-92a83db64cd1",
   "metadata": {},
   "outputs": [],
   "source": []
  }
 ],
 "metadata": {
  "kernelspec": {
   "display_name": "Python 3 (ipykernel)",
   "language": "python",
   "name": "python3"
  },
  "language_info": {
   "codemirror_mode": {
    "name": "ipython",
    "version": 3
   },
   "file_extension": ".py",
   "mimetype": "text/x-python",
   "name": "python",
   "nbconvert_exporter": "python",
   "pygments_lexer": "ipython3",
   "version": "3.12.4"
  }
 },
 "nbformat": 4,
 "nbformat_minor": 5
}
