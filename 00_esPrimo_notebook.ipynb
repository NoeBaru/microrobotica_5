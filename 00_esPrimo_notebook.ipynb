{
 "cells": [
  {
   "cell_type": "markdown",
   "id": "f1a6be1f-93f9-4e1c-84f7-cd098bf4d46a",
   "metadata": {},
   "source": [
    "# Il primo notebook di microrobotica\n",
    "\n",
    "Questo è il prim esempio di note di Jupiter visto in **5AROB**"
   ]
  },
  {
   "cell_type": "code",
   "execution_count": 2,
   "id": "368a975d-9264-4d69-8b4f-a1f25842a336",
   "metadata": {},
   "outputs": [
    {
     "name": "stdout",
     "output_type": "stream",
     "text": [
      "3\n"
     ]
    }
   ],
   "source": [
    "a = 1\n",
    "b = 2\n",
    "print(a+b)"
   ]
  },
  {
   "cell_type": "markdown",
   "id": "d3df6bf0-3168-4125-9248-59df58621d65",
   "metadata": {},
   "source": [
    "**ATTENZIONE**: il namespace di un notebook è condiviso in tutte le sue celle"
   ]
  },
  {
   "cell_type": "code",
   "execution_count": 4,
   "id": "87c831e3-f8d1-4cfa-b575-e804492ee2bb",
   "metadata": {},
   "outputs": [
    {
     "name": "stdout",
     "output_type": "stream",
     "text": [
      "1\n"
     ]
    }
   ],
   "source": [
    "print(a)"
   ]
  },
  {
   "cell_type": "code",
   "execution_count": 5,
   "id": "ebdc05fa-bd16-4064-94b1-6c81eb2d7618",
   "metadata": {},
   "outputs": [
    {
     "data": {
      "text/plain": [
       "1"
      ]
     },
     "execution_count": 5,
     "metadata": {},
     "output_type": "execute_result"
    }
   ],
   "source": [
    "a #inviando manda direttamente il valore senza fare la print (vale per una variabile sola)"
   ]
  },
  {
   "cell_type": "markdown",
   "id": "017c3109-18cd-420f-8ce3-56430caddcb5",
   "metadata": {},
   "source": [
    "## Ripasso sui dizionari"
   ]
  },
  {
   "cell_type": "code",
   "execution_count": 16,
   "id": "42b0080b-65bc-4830-b61c-f41700199b45",
   "metadata": {},
   "outputs": [
    {
     "name": "stdout",
     "output_type": "stream",
     "text": [
      "0 a\n",
      "1 b\n",
      "2 c\n",
      "3 d\n",
      "4 e\n",
      "5 f\n",
      "6 g\n",
      "7 h\n",
      "8 i\n",
      "9 l\n",
      "10 m\n",
      "11 n\n",
      "12 o\n",
      "13 p\n",
      "14 q\n",
      "15 r\n",
      "16 s\n",
      "17 t\n",
      "18 u\n",
      "19 v\n",
      "20 z\n"
     ]
    }
   ],
   "source": [
    "letter2number = {}\n",
    "number2letter = {}\n",
    "letters = \"abcdefghilmnopqrstuvz\"\n",
    "#len(letters)\n",
    "for number, letter in enumerate(letters):\n",
    "    letter2number[letter] = number\n",
    "    number2letter[number] = letter\n",
    "    print(number, letter)"
   ]
  },
  {
   "cell_type": "code",
   "execution_count": 20,
   "id": "1501a61e-fb23-46e4-9451-d545daff7f59",
   "metadata": {},
   "outputs": [
    {
     "data": {
      "text/plain": [
       "{'a': 0,\n",
       " 'b': 1,\n",
       " 'c': 2,\n",
       " 'd': 3,\n",
       " 'e': 4,\n",
       " 'f': 5,\n",
       " 'g': 6,\n",
       " 'h': 7,\n",
       " 'i': 8,\n",
       " 'l': 9,\n",
       " 'm': 10,\n",
       " 'n': 11,\n",
       " 'o': 12,\n",
       " 'p': 13,\n",
       " 'q': 14,\n",
       " 'r': 15,\n",
       " 's': 16,\n",
       " 't': 17,\n",
       " 'u': 18,\n",
       " 'v': 19,\n",
       " 'z': 20}"
      ]
     },
     "execution_count": 20,
     "metadata": {},
     "output_type": "execute_result"
    }
   ],
   "source": [
    "letter2number"
   ]
  },
  {
   "cell_type": "code",
   "execution_count": 22,
   "id": "deac2c72-6a93-47cc-9732-0c46362b29f8",
   "metadata": {},
   "outputs": [
    {
     "data": {
      "text/plain": [
       "{0: 'a',\n",
       " 1: 'b',\n",
       " 2: 'c',\n",
       " 3: 'd',\n",
       " 4: 'e',\n",
       " 5: 'f',\n",
       " 6: 'g',\n",
       " 7: 'h',\n",
       " 8: 'i',\n",
       " 9: 'l',\n",
       " 10: 'm',\n",
       " 11: 'n',\n",
       " 12: 'o',\n",
       " 13: 'p',\n",
       " 14: 'q',\n",
       " 15: 'r',\n",
       " 16: 's',\n",
       " 17: 't',\n",
       " 18: 'u',\n",
       " 19: 'v',\n",
       " 20: 'z'}"
      ]
     },
     "execution_count": 22,
     "metadata": {},
     "output_type": "execute_result"
    }
   ],
   "source": [
    "number2letter"
   ]
  },
  {
   "cell_type": "markdown",
   "id": "c851888f-19b7-4583-a8e7-c44808daee5e",
   "metadata": {},
   "source": [
    "Per pulire la memoria andare su Kernel>>Restart Kernel and run all cells"
   ]
  },
  {
   "cell_type": "code",
   "execution_count": 24,
   "id": "3c26f7e9-ae4c-4d40-abf0-5764ead5fb94",
   "metadata": {},
   "outputs": [
    {
     "name": "stdin",
     "output_type": "stream",
     "text": [
      "Inserisci una frase:  ciao come va?\n"
     ]
    }
   ],
   "source": [
    "string = input(\"Inserisci una frase: \")"
   ]
  },
  {
   "cell_type": "code",
   "execution_count": 28,
   "id": "60cee766-4a55-4af1-a2ce-5c70f52aafd3",
   "metadata": {},
   "outputs": [
    {
     "data": {
      "text/plain": [
       "'ciao come va?'"
      ]
     },
     "execution_count": 28,
     "metadata": {},
     "output_type": "execute_result"
    }
   ],
   "source": [
    "string"
   ]
  },
  {
   "cell_type": "code",
   "execution_count": null,
   "id": "210af108-4fd1-4ff2-86b8-edde5cc0609d",
   "metadata": {},
   "outputs": [],
   "source": []
  }
 ],
 "metadata": {
  "kernelspec": {
   "display_name": "Python 3 (ipykernel)",
   "language": "python",
   "name": "python3"
  },
  "language_info": {
   "codemirror_mode": {
    "name": "ipython",
    "version": 3
   },
   "file_extension": ".py",
   "mimetype": "text/x-python",
   "name": "python",
   "nbconvert_exporter": "python",
   "pygments_lexer": "ipython3",
   "version": "3.12.4"
  }
 },
 "nbformat": 4,
 "nbformat_minor": 5
}
