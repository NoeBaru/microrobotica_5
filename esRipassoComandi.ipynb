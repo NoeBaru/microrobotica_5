{
 "cells": [
  {
   "cell_type": "markdown",
   "id": "c67de218-c473-44d9-a5c2-05dae4c574a8",
   "metadata": {},
   "source": [
    "### RIPASSO CONCETTI FONDAMENTALI NUMPY, PANDAS, MATPLOTLIB"
   ]
  },
  {
   "cell_type": "code",
   "execution_count": 5,
   "id": "61276d79-14dc-448a-aa04-d54ddd478206",
   "metadata": {},
   "outputs": [],
   "source": [
    "import pandas as pd\n",
    "import numpy as np\n",
    "import matplotlib.pyplot as plt"
   ]
  },
  {
   "cell_type": "markdown",
   "id": "0f4688e2-f2ea-4ba6-8ce2-279295ae64e7",
   "metadata": {},
   "source": [
    "LETTURA FILE CSV"
   ]
  },
  {
   "cell_type": "code",
   "execution_count": null,
   "id": "4a754f6a-c25e-4574-aae4-422bbe35a4ea",
   "metadata": {},
   "outputs": [],
   "source": [
    "# percorso del file CSV\n",
    "fileName = 'percorso/del/file.csv'\n",
    "\n",
    "# lettura del CSV in un DataFrame\n",
    "dati = pd.read_csv(fileName)\n",
    "\n",
    "# mostra le prime righe del CSV\n",
    "dati.head()"
   ]
  },
  {
   "cell_type": "code",
   "execution_count": null,
   "id": "c4bd2f2e-94ee-4a37-8963-50a1e0989521",
   "metadata": {},
   "outputs": [],
   "source": [
    "# per rimuovere i valori NaN\n",
    "dati.dropna(inplace=True) #NaN in pandas indica valori mancanti\n",
    "dati.info() # restituisce le info sui valori vari"
   ]
  },
  {
   "cell_type": "code",
   "execution_count": null,
   "id": "c7192244-4593-4973-b230-3ad35dcff0f8",
   "metadata": {},
   "outputs": [],
   "source": [
    "# per selezionare solo una colonna del file .csv\n",
    "cols = [\"Colonna1\"]\n",
    "dati[cols]"
   ]
  },
  {
   "cell_type": "markdown",
   "id": "de7ec931-1607-40f8-805f-824b61d1ecd1",
   "metadata": {},
   "source": [
    "GRAFICO A DISPERSIONE"
   ]
  },
  {
   "cell_type": "code",
   "execution_count": null,
   "id": "0934e878-45f4-47a7-9827-b1a7213c26b8",
   "metadata": {},
   "outputs": [],
   "source": [
    "# Dati \"coordinate\" per il grafico a dispersione\n",
    "x = [1, 2, 3, 4, 5]\n",
    "y = [10, 12, 14, 13, 15]\n",
    "\n",
    "# Creazione del grafico\n",
    "plt.scatter(x, y, color='red', label='Punti') # creo i pallini del grafico avendo coordinate asse x e y, colore e etichetta\n",
    "plt.title(\"Grafico a dispersione\") #titolo della figura\n",
    "plt.xlabel(\"Asse X\") # etichetta asse x\n",
    "plt.ylabel(\"Asse Y\") # etichetta asse y\n",
    "plt.legend() # mostra la legenda\n",
    "plt.grid() # aggiunge una griglia\n",
    "plt.show() # per mostrare il grafico"
   ]
  },
  {
   "cell_type": "markdown",
   "id": "a60ce74f-26a1-4b6a-b593-4d7b7641a6e1",
   "metadata": {},
   "source": [
    "GRAFICO ISTOGRAMMA"
   ]
  },
  {
   "cell_type": "code",
   "execution_count": null,
   "id": "1c214358-36a5-4937-aa27-c32880160a76",
   "metadata": {},
   "outputs": [],
   "source": [
    "# per le sbarre del grafico\n",
    "bins = len(np.unique(dati[cols])) # unique per non ripetere nel conteggio gli stessi valori e invalidare il risultato del grafico\n",
    "\n",
    "# per creare il foglio del grafico\n",
    "fig, ax = plt.subplots(figsize=(6,4)) \n",
    "\n",
    "# per creare l'istogramma prendendo il valore delle colonne, le sbarre e il colore del contorno delle sbarre\n",
    "ax.hist(dati[cols].values, bins=bins, edgecolor=\"k\")\n",
    "ax.set_xticks(ax.get_xticks(), ax.get_xticklabels(), rotation=45, ha='right') # per ruotare di 45 gradi le scritte delle etichette del grafico\n",
    "ax.set_xlabel(\"tipo\") # etichetta asse x\n",
    "ax.set_ylabel(\"frequenza\") # etichetta asse y\n",
    "\n",
    "plt.show() # per mostrare il grafico"
   ]
  },
  {
   "cell_type": "markdown",
   "id": "f9df08bb-eea7-4b7d-a190-75360cbd7902",
   "metadata": {},
   "source": [
    "GRAFICO MATRICE DISPERSIONI E ISTOGRAMMI"
   ]
  },
  {
   "cell_type": "code",
   "execution_count": null,
   "id": "8597d69a-dace-46f3-b1b3-74f436bf192b",
   "metadata": {},
   "outputs": [],
   "source": [
    "# Una matrice n×n di grafici, dove ci sono:\n",
    "# - Grafici a dispersione (scatter plot): Mostrano la relazione tra due colonne diverse.\n",
    "# - Istogrammi (ist): Mostrano la distribuzione dei valori di una singola colonna.\n",
    "fig, axs = plt.subplots(nrows = 4, ncols = 4, figsize = (20, 20))\n",
    "# Iterano rispettivamente sugli indici e sui nomi delle colonne. \n",
    "# cols: È una lista delle colonne del DataFrame selezionate per l'analisi.\n",
    "# i, icol e j, jcol: Iterano rispettivamente sugli indici e sui nomi delle colonne. Per ogni coppia di colonne (icol, jcol):\n",
    "for i, icol in enumerate(cols): \n",
    "    for j, jcol in enumerate(cols):\n",
    "        if i != j:\n",
    "            x = dati[icol].values\n",
    "            y = dati[jcol].values\n",
    "            axs[i, j].scatter(x, y, s = 2, c = \"#FE5D26\")\n",
    "            axs[i, j].set_xlabel(icol)\n",
    "            axs[i, j].set_ylabel(jcol)\n",
    "            axs[i, j].set_facecolor(\"#FAEDCA\")\n",
    "        else: # per i grafici in mezzo faccio l'istogramma\n",
    "            x = dati[icol].values #x è = a y\n",
    "            axs[i, j].hist(x, color = \"#FE5D26\", edgecolor = \"#F2C078\")\n",
    "            axs[i, j].set_xlabel(icol)\n",
    "            axs[i, j].set_ylabel(\"Frequenza assoluta\")\n",
    "            axs[i, j].set_facecolor(\"#FAEDCA\")\n",
    "plt.show() # mostro il grafico"
   ]
  },
  {
   "cell_type": "markdown",
   "id": "2d4aec8d-a5ac-4da3-b163-fa6712887201",
   "metadata": {},
   "source": [
    "CARICAMENTO IMMAGINI"
   ]
  },
  {
   "cell_type": "code",
   "execution_count": null,
   "id": "52e3de95-f940-40c6-acde-2273f9c4c9b7",
   "metadata": {},
   "outputs": [],
   "source": [
    "cols = [\"Name\", \"Type1\"] # titoli colonne\n",
    "nomi_tipi_pokemon = dati[cols].values # nomi tipi\n",
    "nomi_tipi_pokemon\n",
    "\n",
    "diz_pokemon = {} # tutti i pokemon\n",
    "\n",
    "for el in nomi_tipi_pokemon: # organizzare i Pokémon in base al loro tipo principale\n",
    "    if el[1] not in diz_pokemon: # non è ancora nel dizionario, lo si aggiunge come chiave, associandogli una lista contenente il nome del Pokémon\n",
    "        diz_pokemon[el[1]] = [el[0]]\n",
    "    else: # se il tipo è già presente, si aggiunge il nome del Pokémon alla lista associata.\n",
    "        diz_pokemon[el[1]].append(el[0])\n",
    "\n",
    "diz_pokemon\n",
    "\n",
    "pokemon_random = []\n",
    "imgs = []\n",
    "\n",
    "for i, tipo in enumerate(diz_pokemon):\n",
    "    pokemon_random.append(np.random.choice(diz_pokemon[tipo], replace=False)) # sceglie un elemento casuale dalla lista di Pokémon associata a quel tipo\n",
    "    imgs.append(plt.imread(f\"./images/{pokemon_random[i]}.png\"))\n",
    "\n",
    "fig, axs = plt.subplots(nrows=2, ncols=9, figsize=(15,7))\n",
    "for i, ax in enumerate(axs.reshape(-1)): # appiattisce l'array bidimensionale in uno monodimensionale per semplificare l'accesso ai sottografi\n",
    "    ax.set_axis_off()\n",
    "\n",
    "    ax.imshow(imgs[i])\n",
    "    ax.set_title(pokemon_random[i])\n",
    "\n",
    "plt.show()\n",
    "\n",
    "# OPPURE più complesso e dinamico:\n",
    "\n",
    "fig,axs = plt.subplots(nrows = 3, ncols=6, figsize=(10,10))\n",
    "tipi = np.unique(type1)\n",
    "\n",
    "dizionario = {}\n",
    "\n",
    "for t in tipi:\n",
    "    dizionario[t] = name[t==type1]\n",
    "\n",
    "axsr = np.reshape(axs, -1) # appiattisce l'array bidimensionale in uno monodimensionale per semplificare l'accesso ai sottografi (da 2d a 1d)\n",
    "\n",
    "for i,tipo in enumerate(tipi):\n",
    "    choosen_name = np.random.choice(dizionario[tipo], 1,replace = False)[0]\n",
    "    img = \"./images/images/\" + choosen_name + \".png\"\n",
    "    image = plt.imread(img)\n",
    "    axsr[i].imshow(image)\n",
    "    axsr[i].set_axis_off()\n",
    "    axsr[i].set_title(choosen_name)\n",
    "\n",
    "plt.show()"
   ]
  }
 ],
 "metadata": {
  "kernelspec": {
   "display_name": "Python 3 (ipykernel)",
   "language": "python",
   "name": "python3"
  },
  "language_info": {
   "codemirror_mode": {
    "name": "ipython",
    "version": 3
   },
   "file_extension": ".py",
   "mimetype": "text/x-python",
   "name": "python",
   "nbconvert_exporter": "python",
   "pygments_lexer": "ipython3",
   "version": "3.12.4"
  }
 },
 "nbformat": 4,
 "nbformat_minor": 5
}
