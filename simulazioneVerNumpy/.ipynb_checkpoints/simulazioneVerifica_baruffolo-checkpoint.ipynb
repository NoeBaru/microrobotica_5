{
 "cells": [
  {
   "cell_type": "markdown",
   "id": "44ce9d47",
   "metadata": {},
   "source": [
    "# Simulazione verifica su Python e Numpy\n",
    "### es: 1(no for no if), 4 (no for no if), 5"
   ]
  },
  {
   "cell_type": "code",
   "execution_count": 3,
   "id": "6f9ac6d2",
   "metadata": {},
   "outputs": [],
   "source": [
    "import numpy as np\n",
    "import matplotlib.pyplot as plt"
   ]
  },
  {
   "cell_type": "markdown",
   "id": "8446b35f",
   "metadata": {},
   "source": [
    "## ESERCIZIO 1\n",
    "Crea un numpy array unidimensionale che contenga tutti i numeri interi tra 2 e 1000 (estremi inclusi), ma nel quale tutti i numeri divisibili per 7 sono sostituiti da uno 0. Infine crea un array contenente tutti i numeri interi tra 2 e 1000 (estremi inclusi) ma privo di tutti i numeri divisibili per 7."
   ]
  },
  {
   "cell_type": "code",
   "execution_count": 8,
   "id": "c238539f",
   "metadata": {},
   "outputs": [
    {
     "name": "stdout",
     "output_type": "stream",
     "text": [
      "Array con divisibili per 7 sostituiti da 0: [   2    3    4    5    6    0    8    9   10   11   12   13    0   15\n",
      "   16   17   18   19   20    0   22   23   24   25   26   27    0   29\n",
      "   30   31   32   33   34    0   36   37   38   39   40   41    0   43\n",
      "   44   45   46   47   48    0   50   51   52   53   54   55    0   57\n",
      "   58   59   60   61   62    0   64   65   66   67   68   69    0   71\n",
      "   72   73   74   75   76    0   78   79   80   81   82   83    0   85\n",
      "   86   87   88   89   90    0   92   93   94   95   96   97    0   99\n",
      "  100  101  102  103  104    0  106  107  108  109  110  111    0  113\n",
      "  114  115  116  117  118    0  120  121  122  123  124  125    0  127\n",
      "  128  129  130  131  132    0  134  135  136  137  138  139    0  141\n",
      "  142  143  144  145  146    0  148  149  150  151  152  153    0  155\n",
      "  156  157  158  159  160    0  162  163  164  165  166  167    0  169\n",
      "  170  171  172  173  174    0  176  177  178  179  180  181    0  183\n",
      "  184  185  186  187  188    0  190  191  192  193  194  195    0  197\n",
      "  198  199  200  201  202    0  204  205  206  207  208  209    0  211\n",
      "  212  213  214  215  216    0  218  219  220  221  222  223    0  225\n",
      "  226  227  228  229  230    0  232  233  234  235  236  237    0  239\n",
      "  240  241  242  243  244    0  246  247  248  249  250  251    0  253\n",
      "  254  255  256  257  258    0  260  261  262  263  264  265    0  267\n",
      "  268  269  270  271  272    0  274  275  276  277  278  279    0  281\n",
      "  282  283  284  285  286    0  288  289  290  291  292  293    0  295\n",
      "  296  297  298  299  300    0  302  303  304  305  306  307    0  309\n",
      "  310  311  312  313  314    0  316  317  318  319  320  321    0  323\n",
      "  324  325  326  327  328    0  330  331  332  333  334  335    0  337\n",
      "  338  339  340  341  342    0  344  345  346  347  348  349    0  351\n",
      "  352  353  354  355  356    0  358  359  360  361  362  363    0  365\n",
      "  366  367  368  369  370    0  372  373  374  375  376  377    0  379\n",
      "  380  381  382  383  384    0  386  387  388  389  390  391    0  393\n",
      "  394  395  396  397  398    0  400  401  402  403  404  405    0  407\n",
      "  408  409  410  411  412    0  414  415  416  417  418  419    0  421\n",
      "  422  423  424  425  426    0  428  429  430  431  432  433    0  435\n",
      "  436  437  438  439  440    0  442  443  444  445  446  447    0  449\n",
      "  450  451  452  453  454    0  456  457  458  459  460  461    0  463\n",
      "  464  465  466  467  468    0  470  471  472  473  474  475    0  477\n",
      "  478  479  480  481  482    0  484  485  486  487  488  489    0  491\n",
      "  492  493  494  495  496    0  498  499  500  501  502  503    0  505\n",
      "  506  507  508  509  510    0  512  513  514  515  516  517    0  519\n",
      "  520  521  522  523  524    0  526  527  528  529  530  531    0  533\n",
      "  534  535  536  537  538    0  540  541  542  543  544  545    0  547\n",
      "  548  549  550  551  552    0  554  555  556  557  558  559    0  561\n",
      "  562  563  564  565  566    0  568  569  570  571  572  573    0  575\n",
      "  576  577  578  579  580    0  582  583  584  585  586  587    0  589\n",
      "  590  591  592  593  594    0  596  597  598  599  600  601    0  603\n",
      "  604  605  606  607  608    0  610  611  612  613  614  615    0  617\n",
      "  618  619  620  621  622    0  624  625  626  627  628  629    0  631\n",
      "  632  633  634  635  636    0  638  639  640  641  642  643    0  645\n",
      "  646  647  648  649  650    0  652  653  654  655  656  657    0  659\n",
      "  660  661  662  663  664    0  666  667  668  669  670  671    0  673\n",
      "  674  675  676  677  678    0  680  681  682  683  684  685    0  687\n",
      "  688  689  690  691  692    0  694  695  696  697  698  699    0  701\n",
      "  702  703  704  705  706    0  708  709  710  711  712  713    0  715\n",
      "  716  717  718  719  720    0  722  723  724  725  726  727    0  729\n",
      "  730  731  732  733  734    0  736  737  738  739  740  741    0  743\n",
      "  744  745  746  747  748    0  750  751  752  753  754  755    0  757\n",
      "  758  759  760  761  762    0  764  765  766  767  768  769    0  771\n",
      "  772  773  774  775  776    0  778  779  780  781  782  783    0  785\n",
      "  786  787  788  789  790    0  792  793  794  795  796  797    0  799\n",
      "  800  801  802  803  804    0  806  807  808  809  810  811    0  813\n",
      "  814  815  816  817  818    0  820  821  822  823  824  825    0  827\n",
      "  828  829  830  831  832    0  834  835  836  837  838  839    0  841\n",
      "  842  843  844  845  846    0  848  849  850  851  852  853    0  855\n",
      "  856  857  858  859  860    0  862  863  864  865  866  867    0  869\n",
      "  870  871  872  873  874    0  876  877  878  879  880  881    0  883\n",
      "  884  885  886  887  888    0  890  891  892  893  894  895    0  897\n",
      "  898  899  900  901  902    0  904  905  906  907  908  909    0  911\n",
      "  912  913  914  915  916    0  918  919  920  921  922  923    0  925\n",
      "  926  927  928  929  930    0  932  933  934  935  936  937    0  939\n",
      "  940  941  942  943  944    0  946  947  948  949  950  951    0  953\n",
      "  954  955  956  957  958    0  960  961  962  963  964  965    0  967\n",
      "  968  969  970  971  972    0  974  975  976  977  978  979    0  981\n",
      "  982  983  984  985  986    0  988  989  990  991  992  993    0  995\n",
      "  996  997  998  999 1000]\n",
      "Array senza divisibili per 7: [   2    3    4    5    6    8    9   10   11   12   13   15   16   17\n",
      "   18   19   20   22   23   24   25   26   27   29   30   31   32   33\n",
      "   34   36   37   38   39   40   41   43   44   45   46   47   48   50\n",
      "   51   52   53   54   55   57   58   59   60   61   62   64   65   66\n",
      "   67   68   69   71   72   73   74   75   76   78   79   80   81   82\n",
      "   83   85   86   87   88   89   90   92   93   94   95   96   97   99\n",
      "  100  101  102  103  104  106  107  108  109  110  111  113  114  115\n",
      "  116  117  118  120  121  122  123  124  125  127  128  129  130  131\n",
      "  132  134  135  136  137  138  139  141  142  143  144  145  146  148\n",
      "  149  150  151  152  153  155  156  157  158  159  160  162  163  164\n",
      "  165  166  167  169  170  171  172  173  174  176  177  178  179  180\n",
      "  181  183  184  185  186  187  188  190  191  192  193  194  195  197\n",
      "  198  199  200  201  202  204  205  206  207  208  209  211  212  213\n",
      "  214  215  216  218  219  220  221  222  223  225  226  227  228  229\n",
      "  230  232  233  234  235  236  237  239  240  241  242  243  244  246\n",
      "  247  248  249  250  251  253  254  255  256  257  258  260  261  262\n",
      "  263  264  265  267  268  269  270  271  272  274  275  276  277  278\n",
      "  279  281  282  283  284  285  286  288  289  290  291  292  293  295\n",
      "  296  297  298  299  300  302  303  304  305  306  307  309  310  311\n",
      "  312  313  314  316  317  318  319  320  321  323  324  325  326  327\n",
      "  328  330  331  332  333  334  335  337  338  339  340  341  342  344\n",
      "  345  346  347  348  349  351  352  353  354  355  356  358  359  360\n",
      "  361  362  363  365  366  367  368  369  370  372  373  374  375  376\n",
      "  377  379  380  381  382  383  384  386  387  388  389  390  391  393\n",
      "  394  395  396  397  398  400  401  402  403  404  405  407  408  409\n",
      "  410  411  412  414  415  416  417  418  419  421  422  423  424  425\n",
      "  426  428  429  430  431  432  433  435  436  437  438  439  440  442\n",
      "  443  444  445  446  447  449  450  451  452  453  454  456  457  458\n",
      "  459  460  461  463  464  465  466  467  468  470  471  472  473  474\n",
      "  475  477  478  479  480  481  482  484  485  486  487  488  489  491\n",
      "  492  493  494  495  496  498  499  500  501  502  503  505  506  507\n",
      "  508  509  510  512  513  514  515  516  517  519  520  521  522  523\n",
      "  524  526  527  528  529  530  531  533  534  535  536  537  538  540\n",
      "  541  542  543  544  545  547  548  549  550  551  552  554  555  556\n",
      "  557  558  559  561  562  563  564  565  566  568  569  570  571  572\n",
      "  573  575  576  577  578  579  580  582  583  584  585  586  587  589\n",
      "  590  591  592  593  594  596  597  598  599  600  601  603  604  605\n",
      "  606  607  608  610  611  612  613  614  615  617  618  619  620  621\n",
      "  622  624  625  626  627  628  629  631  632  633  634  635  636  638\n",
      "  639  640  641  642  643  645  646  647  648  649  650  652  653  654\n",
      "  655  656  657  659  660  661  662  663  664  666  667  668  669  670\n",
      "  671  673  674  675  676  677  678  680  681  682  683  684  685  687\n",
      "  688  689  690  691  692  694  695  696  697  698  699  701  702  703\n",
      "  704  705  706  708  709  710  711  712  713  715  716  717  718  719\n",
      "  720  722  723  724  725  726  727  729  730  731  732  733  734  736\n",
      "  737  738  739  740  741  743  744  745  746  747  748  750  751  752\n",
      "  753  754  755  757  758  759  760  761  762  764  765  766  767  768\n",
      "  769  771  772  773  774  775  776  778  779  780  781  782  783  785\n",
      "  786  787  788  789  790  792  793  794  795  796  797  799  800  801\n",
      "  802  803  804  806  807  808  809  810  811  813  814  815  816  817\n",
      "  818  820  821  822  823  824  825  827  828  829  830  831  832  834\n",
      "  835  836  837  838  839  841  842  843  844  845  846  848  849  850\n",
      "  851  852  853  855  856  857  858  859  860  862  863  864  865  866\n",
      "  867  869  870  871  872  873  874  876  877  878  879  880  881  883\n",
      "  884  885  886  887  888  890  891  892  893  894  895  897  898  899\n",
      "  900  901  902  904  905  906  907  908  909  911  912  913  914  915\n",
      "  916  918  919  920  921  922  923  925  926  927  928  929  930  932\n",
      "  933  934  935  936  937  939  940  941  942  943  944  946  947  948\n",
      "  949  950  951  953  954  955  956  957  958  960  961  962  963  964\n",
      "  965  967  968  969  970  971  972  974  975  976  977  978  979  981\n",
      "  982  983  984  985  986  988  989  990  991  992  993  995  996  997\n",
      "  998  999 1000]\n"
     ]
    }
   ],
   "source": [
    "array = np.arange(2, 1001)\n",
    "\n",
    "array7zero = array.copy()\n",
    "array7zero[array7zero % 7 == 0] = 0 #array contenente numeri divisibili per 7 e li metto a zero\n",
    "\n",
    "arrayNO_7zero = array[array % 7 != 0] #array senza tutti i numeri divisibili per 7\n",
    "\n",
    "print(\"Array con divisibili per 7 sostituiti da 0:\", array7zero)\n",
    "print(\"Array senza divisibili per 7:\", arrayNO_7zero)"
   ]
  },
  {
   "cell_type": "markdown",
   "id": "67ec09e9",
   "metadata": {},
   "source": [
    "## ESERCIZIO 2 (Facoltativo per DSA)\n",
    "Usa numpy per creare l'immagine seguente (n x n). L'intensità del colore aumenta sia lungo le colonne sia lungo le righe. L'intensità di colore di ogni riga è sempre maggiore della riga precedente.\n",
    "\n",
    "Per esempio con n = 10:\n",
    "\n",
    "![matrice](matrice.png)\n",
    "\n",
    "Codice per visualizzare l'immagine:\n",
    "\n",
    "    plt.imshow(mat, cmap=\"Blues\")"
   ]
  },
  {
   "cell_type": "code",
   "execution_count": 5,
   "id": "58177ffd",
   "metadata": {},
   "outputs": [
    {
     "data": {
      "text/plain": [
       "<matplotlib.image.AxesImage at 0x160942c3d40>"
      ]
     },
     "execution_count": 5,
     "metadata": {},
     "output_type": "execute_result"
    },
    {
     "data": {
      "image/png": "[encoded data removed]",
      "text/plain": [
       "<Figure size 640x480 with 1 Axes>"
      ]
     },
     "metadata": {},
     "output_type": "display_data"
    }
   ],
   "source": [
    "array = np.linspace(0.,1.,10*10)\n",
    "array2d = array.reshape(10,10)\n",
    "plt.imshow(array2d, cmap = \"Blues\")"
   ]
  },
  {
   "cell_type": "markdown",
   "id": "dfbbb094",
   "metadata": {},
   "source": [
    "## ESERCIZIO 3\n",
    "All'interno dello stesso grafico traccia gli andamenti delle seguenti funzioni per valori di $x \\in [-2\\pi,2\\pi]$:\n",
    "\n",
    "- $f(x) = \\frac{\\sin(x)}{x}$ (usa la funzione `np.sin()`)\n",
    "- $g(x) = e^{-x^2} $ (usa funzione `np.exp()` per l'esponenziale)\n",
    "- $h(x) = f(x)-g(x)$"
   ]
  },
  {
   "cell_type": "code",
   "execution_count": 18,
   "id": "53545f80",
   "metadata": {},
   "outputs": [
    {
     "name": "stderr",
     "output_type": "stream",
     "text": [
      "C:\\Users\\Utente\\AppData\\Local\\Temp\\ipykernel_1348\\1216242001.py:2: RuntimeWarning: invalid value encountered in divide\n",
      "  fx, gx, hx = np.sin(x)/x, np.exp(-x**2), (fx - gx)\n"
     ]
    },
    {
     "ename": "NameError",
     "evalue": "name 'fx' is not defined",
     "output_type": "error",
     "traceback": [
      "\u001b[1;31m---------------------------------------------------------------------------\u001b[0m",
      "\u001b[1;31mNameError\u001b[0m                                 Traceback (most recent call last)",
      "Cell \u001b[1;32mIn[18], line 2\u001b[0m\n\u001b[0;32m      1\u001b[0m x \u001b[38;5;241m=\u001b[39m np\u001b[38;5;241m.\u001b[39mlinspace(\u001b[38;5;241m-\u001b[39m\u001b[38;5;241m2\u001b[39m\u001b[38;5;241m*\u001b[39mnp\u001b[38;5;241m.\u001b[39mpi, \u001b[38;5;241m2\u001b[39m\u001b[38;5;241m*\u001b[39mnp\u001b[38;5;241m.\u001b[39mpi, \u001b[38;5;241m1001\u001b[39m)\n\u001b[1;32m----> 2\u001b[0m fx, gx, hx \u001b[38;5;241m=\u001b[39m np\u001b[38;5;241m.\u001b[39msin(x)\u001b[38;5;241m/\u001b[39mx, np\u001b[38;5;241m.\u001b[39mexp(\u001b[38;5;241m-\u001b[39mx\u001b[38;5;241m*\u001b[39m\u001b[38;5;241m*\u001b[39m\u001b[38;5;241m2\u001b[39m), (fx \u001b[38;5;241m-\u001b[39m gx)\n\u001b[0;32m      3\u001b[0m fig, ax \u001b[38;5;241m=\u001b[39m plt\u001b[38;5;241m.\u001b[39msubplots(figsize\u001b[38;5;241m=\u001b[39m(\u001b[38;5;241m6\u001b[39m,\u001b[38;5;241m3\u001b[39m)) \n\u001b[0;32m      4\u001b[0m ax\u001b[38;5;241m.\u001b[39mplot(x, fx, label \u001b[38;5;241m=\u001b[39m \u001b[38;5;124m\"\u001b[39m\u001b[38;5;124m$f(x) = \u001b[39m\u001b[38;5;130;01m\\\\\u001b[39;00m\u001b[38;5;124mfrac\u001b[39m\u001b[38;5;124m{\u001b[39m\u001b[38;5;124msin(x)}\u001b[39m\u001b[38;5;132;01m{x}\u001b[39;00m\u001b[38;5;124m$\u001b[39m\u001b[38;5;124m\"\u001b[39m, color \u001b[38;5;241m=\u001b[39m \u001b[38;5;124m\"\u001b[39m\u001b[38;5;124mred\u001b[39m\u001b[38;5;124m\"\u001b[39m, linewidth \u001b[38;5;241m=\u001b[39m \u001b[38;5;241m2\u001b[39m, linestyle \u001b[38;5;241m=\u001b[39m \u001b[38;5;124m\"\u001b[39m\u001b[38;5;124m-.\u001b[39m\u001b[38;5;124m\"\u001b[39m)\n",
      "\u001b[1;31mNameError\u001b[0m: name 'fx' is not defined"
     ]
    }
   ],
   "source": [
    "x = np.linspace(-2*np.pi, 2*np.pi, 1001)\n",
    "fx, gx, hx = np.sin(x)/x, np.exp(-x**2), (fx - gx)\n",
    "fig, ax = plt.subplots(figsize=(6,3)) \n",
    "ax.plot(x, fx, label = \"$f(x) = \\\\frac{sin(x)}{x}$\", color = \"red\", linewidth = 2, linestyle = \"-.\")\n",
    "ax.plot(x, gx, label = \"$g(x) = e^{-x^2}$\", color = \"blue\", linewidth = 2, linestyle = \"-.\")\n",
    "ax.plot(x, hx, label = \"$h(x) = f(x) - g(x)$\", color = \"green\", linewidth = 2, linestyle = \"--\")\n",
    "\n",
    "ax.set_xlabel(\"x\") #etichetta asse x\n",
    "ax.set_ylabel(\"y\") #etichetta asse y\n",
    "ax.set_title(\"Grafico per $x \\\\ in [[-2\\\\pi, 2\\\\pi] $\", fontsize = 10) #titolo\n",
    "\n",
    "ax.grid() #griglia\n",
    "ax.legend() #legenda con le label scelte durante il plot\n",
    "\n",
    "plt.show()"
   ]
  },
  {
   "cell_type": "markdown",
   "id": "c681a56c",
   "metadata": {},
   "source": [
    "## ESERCIZIO 4\n",
    "Dato `n`numero intero dispari maggiore o uguale a 5 crea una matrice di numpy che abbia la struttura seguente.\n",
    "\n",
    "La cornice della matrice deve essere composta di numeri pseudocasuali compresi tra 0 e 1, mentre l'interno deve essere riempito di 0 tranne nella riga e nella colonna mediane, le quali conterrano degli 1.\n",
    "\n",
    "Per esempio per n=5:\n",
    "\n",
    "    [[0.54619729, 0.80300612, 0.45894256, 0.67077658, 0.71578404],\n",
    "     [0.51791038, 0.        , 1.        , 0.        , 0.81375618],\n",
    "     [0.8230843 , 1.        , 1.        , 1.        , 0.48473322],\n",
    "     [0.87689576, 0.        , 1.        , 0.        , 0.58361921],\n",
    "     [0.13940942, 0.83365168, 0.03049039, 0.92278332, 0.69799144]]\n",
    " "
   ]
  },
  {
   "cell_type": "code",
   "execution_count": 5,
   "id": "dd7a28bb",
   "metadata": {},
   "outputs": [
    {
     "name": "stdout",
     "output_type": "stream",
     "text": [
      "[[0.78379373 0.8415366  0.73345078 0.38151311 0.79972546]\n",
      " [0.44084382 0.         1.         0.         0.99252549]\n",
      " [0.33084366 1.         1.         1.         0.81562004]\n",
      " [0.80082129 0.         1.         0.         0.37876877]\n",
      " [0.14025979 0.         0.         0.         0.71568872]]\n"
     ]
    }
   ],
   "source": [
    "n = 5\n",
    "x = np.zeros((n,n))\n",
    "x[n//2,1:-1] = 1 #/ normale da errore perché deve essere intero\n",
    "x[1:-1,n//2] = 1\n",
    "x[0,:] = np.random.uniform(0,1,n)\n",
    "x[:,0] = np.random.uniform(0,1,n)\n",
    "x[0,:] = np.random.uniform(0,1,n)\n",
    "x[:,-1] = np.random.uniform(0,1,n)\n",
    "print(x)"
   ]
  },
  {
   "cell_type": "markdown",
   "id": "e75da7dd",
   "metadata": {},
   "source": [
    "## ESERCIZIO 5\n",
    "Il file *robots.txt* contiene un frammento del vero file *robots.txt* di un importante quotidiano online. Tutte le righe che iniziano con la parola chiave `Disallow:` contengono le URL di pagine del quotidiano alle quali i software automatici di web crawling o di indicizzazione non dovrebbero mai accedere. La prima directory della URL indica la tipologia di notizia a cui punta l'URL. Per esempio la riga `Disallow: /economia/finanza-personale/2010/Prova-Metadati_a1b5a008-f178-11df-8c4b-00144f02aabc.shtml`fa riferimento a una notizia di **economia**.\n",
    "\n",
    "Crea un programma in Python 3 che legga il file e generi un dizionario in cui:\n",
    "* la chiave è la tipologia di notizia,\n",
    "* il valore è il numero di notizie di quella tipologia."
   ]
  },
  {
   "cell_type": "code",
   "execution_count": 21,
   "id": "744604f2",
   "metadata": {},
   "outputs": [
    {
     "ename": "TypeError",
     "evalue": "only integer scalar arrays can be converted to a scalar index",
     "output_type": "error",
     "traceback": [
      "\u001b[1;31m---------------------------------------------------------------------------\u001b[0m",
      "\u001b[1;31mTypeError\u001b[0m                                 Traceback (most recent call last)",
      "Cell \u001b[1;32mIn[21], line 11\u001b[0m\n\u001b[0;32m      9\u001b[0m         diz[x[\u001b[38;5;241m1\u001b[39m]] \u001b[38;5;241m+\u001b[39m\u001b[38;5;241m=\u001b[39m \u001b[38;5;241m1\u001b[39m\n\u001b[0;32m     10\u001b[0m     \u001b[38;5;28;01melse\u001b[39;00m:\n\u001b[1;32m---> 11\u001b[0m         diz[x[\u001b[38;5;241m1\u001b[39m]] \u001b[38;5;241m=\u001b[39m \u001b[38;5;241m1\u001b[39m\n\u001b[0;32m     12\u001b[0m diz\n",
      "\u001b[1;31mTypeError\u001b[0m: only integer scalar arrays can be converted to a scalar index"
     ]
    }
   ],
   "source": [
    "diz = []\n",
    "robot = \"robots.txt\"\n",
    "with open(robot, \"r\") as file:\n",
    "    row = file.readlines()\n",
    "for i in row:\n",
    "    if i.startswith(\"Disallow\"):\n",
    "        x = i.split(\"/\")\n",
    "    if x[1] in diz:\n",
    "        diz[x[1]] += 1\n",
    "    else:\n",
    "        diz[x[1]] = 1\n",
    "diz"
   ]
  },
  {
   "cell_type": "code",
   "execution_count": null,
   "id": "3df030de-616b-41e4-bbaf-4e6cc44a1041",
   "metadata": {},
   "outputs": [],
   "source": []
  }
 ],
 "metadata": {
  "kernelspec": {
   "display_name": "Python 3 (ipykernel)",
   "language": "python",
   "name": "python3"
  },
  "language_info": {
   "codemirror_mode": {
    "name": "ipython",
    "version": 3
   },
   "file_extension": ".py",
   "mimetype": "text/x-python",
   "name": "python",
   "nbconvert_exporter": "python",
   "pygments_lexer": "ipython3",
   "version": "3.12.4"
  }
 },
 "nbformat": 4,
 "nbformat_minor": 5
}
