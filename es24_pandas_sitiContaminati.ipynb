{
 "cells": [
  {
   "cell_type": "markdown",
   "id": "0c148b84-ba84-4a73-aca2-c5633c27800f",
   "metadata": {},
   "source": [
    "# ES24\n",
    "## Noemi Baruffolo 5^AROB\n",
    "### siti contaminati del piemonte e fare per provincia quanti siti contaminati ci sono. Fare un istogramma"
   ]
  },
  {
   "cell_type": "code",
   "execution_count": 2,
   "id": "d956bdc3-e5f0-4535-96c7-fcb5bfecc293",
   "metadata": {},
   "outputs": [],
   "source": [
    "import numpy as np\n",
    "import matplotlib.pyplot as plt\n",
    "import pandas as pd"
   ]
  },
  {
   "cell_type": "code",
   "execution_count": 4,
   "id": "a1333df3-4ae4-4822-9d64-6ed55d5468e3",
   "metadata": {},
   "outputs": [
    {
     "data": {
      "text/html": [
       "<div>\n",
       "<style scoped>\n",
       "    .dataframe tbody tr th:only-of-type {\n",
       "        vertical-align: middle;\n",
       "    }\n",
       "\n",
       "    .dataframe tbody tr th {\n",
       "        vertical-align: top;\n",
       "    }\n",
       "\n",
       "    .dataframe thead th {\n",
       "        text-align: right;\n",
       "    }\n",
       "</style>\n",
       "<table border=\"1\" class=\"dataframe\">\n",
       "  <thead>\n",
       "    <tr style=\"text-align: right;\">\n",
       "      <th></th>\n",
       "      <th>prov</th>\n",
       "      <th>comune</th>\n",
       "      <th>id_sito</th>\n",
       "      <th>codice_regionale</th>\n",
       "      <th>codice_provinciale</th>\n",
       "      <th>cause</th>\n",
       "      <th>interventi</th>\n",
       "      <th>coord_x</th>\n",
       "      <th>coord_y</th>\n",
       "      <th>data_agg</th>\n",
       "      <th>stato_procedimento</th>\n",
       "    </tr>\n",
       "  </thead>\n",
       "  <tbody>\n",
       "    <tr>\n",
       "      <th>0</th>\n",
       "      <td>ALESSANDRIA</td>\n",
       "      <td>CARBONARA SCRIVIA</td>\n",
       "      <td>2755</td>\n",
       "      <td>01-02755</td>\n",
       "      <td>AL-00267</td>\n",
       "      <td>Presenza di sostanze inquinanti dovuta a gesti...</td>\n",
       "      <td>VERIFICA IN CORSO</td>\n",
       "      <td>487746,0</td>\n",
       "      <td>4966117,0</td>\n",
       "      <td>2025-01-12T00:00:00.000Z</td>\n",
       "      <td>ATTIVO</td>\n",
       "    </tr>\n",
       "    <tr>\n",
       "      <th>1</th>\n",
       "      <td>ALESSANDRIA</td>\n",
       "      <td>CARTOSIO</td>\n",
       "      <td>626</td>\n",
       "      <td>01-00626</td>\n",
       "      <td>AL-00018</td>\n",
       "      <td>Presenza di sostanze inquinanti dovuta a catti...</td>\n",
       "      <td>BONIFICA E RIPRISTINO AMBIENTALE CON MISURE DI...</td>\n",
       "      <td>453851,0</td>\n",
       "      <td>4938606,0</td>\n",
       "      <td>2025-01-12T00:00:00.000Z</td>\n",
       "      <td>CONCLUSO</td>\n",
       "    </tr>\n",
       "    <tr>\n",
       "      <th>2</th>\n",
       "      <td>ALESSANDRIA</td>\n",
       "      <td>CASALE MONFERRATO</td>\n",
       "      <td>2</td>\n",
       "      <td>01-00002</td>\n",
       "      <td>AL-00001</td>\n",
       "      <td>Presenza di sostanze inquinanti dovuta a gesti...</td>\n",
       "      <td>MESSA IN SICUREZZA PERMANENTE</td>\n",
       "      <td>456268,0</td>\n",
       "      <td>4998771,0</td>\n",
       "      <td>2025-01-12T00:00:00.000Z</td>\n",
       "      <td>CONCLUSO</td>\n",
       "    </tr>\n",
       "    <tr>\n",
       "      <th>3</th>\n",
       "      <td>ALESSANDRIA</td>\n",
       "      <td>CASALE MONFERRATO</td>\n",
       "      <td>749</td>\n",
       "      <td>01-00749</td>\n",
       "      <td>AL-00032</td>\n",
       "      <td>Presenza di sostanze inquinanti dovuta a catti...</td>\n",
       "      <td>BONIFICA E RIPRISTINO AMBIENTALE</td>\n",
       "      <td>458473,0</td>\n",
       "      <td>4997655,0</td>\n",
       "      <td>2025-01-12T00:00:00.000Z</td>\n",
       "      <td>CONCLUSO</td>\n",
       "    </tr>\n",
       "    <tr>\n",
       "      <th>4</th>\n",
       "      <td>ALESSANDRIA</td>\n",
       "      <td>CASALE MONFERRATO</td>\n",
       "      <td>1041</td>\n",
       "      <td>01-01041</td>\n",
       "      <td>AL-00053</td>\n",
       "      <td>Presenza di sostanze inquinanti dovuta a gesti...</td>\n",
       "      <td>VERIFICA IN CORSO</td>\n",
       "      <td>NaN</td>\n",
       "      <td>NaN</td>\n",
       "      <td>2025-01-12T00:00:00.000Z</td>\n",
       "      <td>CONCLUSO</td>\n",
       "    </tr>\n",
       "  </tbody>\n",
       "</table>\n",
       "</div>"
      ],
      "text/plain": [
       "          prov             comune  id_sito codice_regionale  \\\n",
       "0  ALESSANDRIA  CARBONARA SCRIVIA     2755         01-02755   \n",
       "1  ALESSANDRIA           CARTOSIO      626         01-00626   \n",
       "2  ALESSANDRIA  CASALE MONFERRATO        2         01-00002   \n",
       "3  ALESSANDRIA  CASALE MONFERRATO      749         01-00749   \n",
       "4  ALESSANDRIA  CASALE MONFERRATO     1041         01-01041   \n",
       "\n",
       "  codice_provinciale                                              cause  \\\n",
       "0           AL-00267  Presenza di sostanze inquinanti dovuta a gesti...   \n",
       "1           AL-00018  Presenza di sostanze inquinanti dovuta a catti...   \n",
       "2           AL-00001  Presenza di sostanze inquinanti dovuta a gesti...   \n",
       "3           AL-00032  Presenza di sostanze inquinanti dovuta a catti...   \n",
       "4           AL-00053  Presenza di sostanze inquinanti dovuta a gesti...   \n",
       "\n",
       "                                          interventi   coord_x    coord_y  \\\n",
       "0                                  VERIFICA IN CORSO  487746,0  4966117,0   \n",
       "1  BONIFICA E RIPRISTINO AMBIENTALE CON MISURE DI...  453851,0  4938606,0   \n",
       "2                      MESSA IN SICUREZZA PERMANENTE  456268,0  4998771,0   \n",
       "3                   BONIFICA E RIPRISTINO AMBIENTALE  458473,0  4997655,0   \n",
       "4                                  VERIFICA IN CORSO       NaN        NaN   \n",
       "\n",
       "                   data_agg stato_procedimento  \n",
       "0  2025-01-12T00:00:00.000Z             ATTIVO  \n",
       "1  2025-01-12T00:00:00.000Z           CONCLUSO  \n",
       "2  2025-01-12T00:00:00.000Z           CONCLUSO  \n",
       "3  2025-01-12T00:00:00.000Z           CONCLUSO  \n",
       "4  2025-01-12T00:00:00.000Z           CONCLUSO  "
      ]
     },
     "execution_count": 4,
     "metadata": {},
     "output_type": "execute_result"
    }
   ],
   "source": [
    "data = pd.read_csv('./csv/regpie-Asco_siti_contaminati_6051-all.csv', sep = ';')\n",
    "data.head()"
   ]
  },
  {
   "cell_type": "code",
   "execution_count": 40,
   "id": "22a61b44-7a8f-4ddf-a807-48a09233ac79",
   "metadata": {},
   "outputs": [
    {
     "data": {
      "text/plain": [
       "prov\n",
       "TORINO                  584\n",
       "NOVARA                  209\n",
       "ALESSANDRIA             125\n",
       "VERCELLI                115\n",
       "ASTI                     67\n",
       "VERBANO-CUSIO-OSSOLA     64\n",
       "BIELLA                   56\n",
       "CUNEO                    56\n",
       "Name: count, dtype: int64"
      ]
     },
     "execution_count": 40,
     "metadata": {},
     "output_type": "execute_result"
    }
   ],
   "source": [
    "data[\"prov\"].value_counts()"
   ]
  },
  {
   "cell_type": "code",
   "execution_count": 42,
   "id": "d94ca44e-04e2-4e1e-9252-6adca8750470",
   "metadata": {},
   "outputs": [
    {
     "data": {
      "image/png": "[encoded data removed]",
      "text/plain": [
       "<Figure size 600x400 with 1 Axes>"
      ]
     },
     "metadata": {},
     "output_type": "display_data"
    }
   ],
   "source": [
    "# per le sbarre del grafico\n",
    "# unique per non ripetere nel conteggio gli stessi valori e invalidare il risultato del grafico\n",
    "\n",
    "# per creare il foglio del grafico\n",
    "fig, ax = plt.subplots(figsize=(6,4)) \n",
    "\n",
    "# per creare l'istogramma prendendo il valore delle colonne, le sbarre e il colore del contorno delle sbarre\n",
    "ax.hist(data[\"prov\"], bins = 50, edgecolor=\"k\")\n",
    "ax.set_xticks(ax.get_xticks(), ax.get_xticklabels(), rotation=45, ha='right') # per ruotare di 45 gradi le scritte delle etichette del grafico\n",
    "ax.set_xlabel(\"Province\") # etichetta asse x\n",
    "ax.set_ylabel(\"Frequenza\") # etichetta asse y\n",
    "\n",
    "plt.show() # per mostrare il grafico"
   ]
  },
  {
   "cell_type": "code",
   "execution_count": 44,
   "id": "72db8692-70f7-4d77-8242-1f96cfa0c402",
   "metadata": {},
   "outputs": [],
   "source": [
    "# Prendere i dati dei siti attivi e conclusi e fare due istogrammi diversi che in trasparenza si sovrappongano"
   ]
  },
  {
   "cell_type": "code",
   "execution_count": null,
   "id": "7f68b2fb-d394-47af-8d26-6958834de43c",
   "metadata": {},
   "outputs": [],
   "source": []
  }
 ],
 "metadata": {
  "kernelspec": {
   "display_name": "Python 3 (ipykernel)",
   "language": "python",
   "name": "python3"
  },
  "language_info": {
   "codemirror_mode": {
    "name": "ipython",
    "version": 3
   },
   "file_extension": ".py",
   "mimetype": "text/x-python",
   "name": "python",
   "nbconvert_exporter": "python",
   "pygments_lexer": "ipython3",
   "version": "3.12.4"
  }
 },
 "nbformat": 4,
 "nbformat_minor": 5
}
