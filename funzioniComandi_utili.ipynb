{
 "cells": [
  {
   "cell_type": "markdown",
   "id": "ed59233a-7606-48bd-86f7-18f5c1a8f2e8",
   "metadata": {},
   "source": [
    "# Funzioni e comandi utili\n",
    "* comando: utilità\n",
    "* esempio"
   ]
  },
  {
   "cell_type": "code",
   "execution_count": null,
   "id": "2060e8be-dd65-414c-a2f7-5ffa8721bb83",
   "metadata": {},
   "outputs": [],
   "source": [
    "#librerie utili\n",
    "import numpy as np\n",
    "import matplotlib.pyplot as plt"
   ]
  },
  {
   "cell_type": "markdown",
   "id": "357c499a-6b60-4e02-afa8-416a710a2309",
   "metadata": {},
   "source": [
    "### Generali"
   ]
  },
  {
   "cell_type": "markdown",
   "id": "9113344e-adcc-497b-b660-e3792956b70e",
   "metadata": {},
   "source": [
    ".items()"
   ]
  },
  {
   "cell_type": "markdown",
   "id": "3cf21b74-1624-4184-a9db-f6868845a329",
   "metadata": {},
   "source": [
    "random.choice()"
   ]
  },
  {
   "cell_type": "markdown",
   "id": "614ceefa-b63e-46f0-8f0a-ecb31b1a6c30",
   "metadata": {},
   "source": [
    ".read()"
   ]
  },
  {
   "cell_type": "markdown",
   "id": "dfdaf26d-70b5-4cf3-b52a-dc3b67a13bee",
   "metadata": {},
   "source": [
    "### Numpy"
   ]
  },
  {
   "cell_type": "markdown",
   "id": "984d6df6-33c7-489b-905e-71d0ceaa1aa2",
   "metadata": {},
   "source": [
    ".append()"
   ]
  },
  {
   "cell_type": "markdown",
   "id": "bae881ca-d1f3-402c-9fdb-37ffa448a12c",
   "metadata": {},
   "source": [
    ".arange()"
   ]
  },
  {
   "cell_type": "markdown",
   "id": "90bbf052-8b29-4c40-b6c2-0471adc7a46a",
   "metadata": {},
   "source": [
    ".copy()"
   ]
  },
  {
   "cell_type": "markdown",
   "id": "524eda48-9eda-4798-b8c9-b4cb5d014b7c",
   "metadata": {},
   "source": [
    ".cos()"
   ]
  },
  {
   "cell_type": "markdown",
   "id": "0f2af536-93de-4310-8115-8be3302e7f28",
   "metadata": {},
   "source": [
    ".count_nonzero()"
   ]
  },
  {
   "cell_type": "markdown",
   "id": "30cf0ddf-7089-49c8-8167-5f8ca5cc0e10",
   "metadata": {},
   "source": [
    ".delete()"
   ]
  },
  {
   "cell_type": "markdown",
   "id": "034ef9e5-5078-4a08-9cce-4427fa24c067",
   "metadata": {},
   "source": [
    ".dtype"
   ]
  },
  {
   "cell_type": "markdown",
   "id": "0f67cfff-665b-40bb-99ac-846d9601c0ea",
   "metadata": {},
   "source": [
    ".exp()"
   ]
  },
  {
   "cell_type": "markdown",
   "id": "d375c7a2-0b5d-47cc-9e6c-0203fbe3ba5c",
   "metadata": {},
   "source": [
    ".float64 o n numeri di bit"
   ]
  },
  {
   "cell_type": "markdown",
   "id": "36f0aff6-13da-4e11-a245-1815ea726f72",
   "metadata": {},
   "source": [
    ".inf"
   ]
  },
  {
   "cell_type": "markdown",
   "id": "11cb33e9-8292-44fd-b550-af9331544864",
   "metadata": {},
   "source": [
    ".int64 o n numeri di bit"
   ]
  },
  {
   "cell_type": "markdown",
   "id": "67ceef5f-5067-4280-973b-db02f1d3db09",
   "metadata": {},
   "source": [
    ".log()"
   ]
  },
  {
   "cell_type": "markdown",
   "id": "b76f791e-3ae4-4e36-9ad0-244481560db8",
   "metadata": {},
   "source": [
    ".logical_and(,)"
   ]
  },
  {
   "cell_type": "markdown",
   "id": "9c9e77ee-0690-414e-95e2-af55f32810ea",
   "metadata": {},
   "source": [
    ".logical_not()"
   ]
  },
  {
   "cell_type": "markdown",
   "id": "9ab2802d-4b2b-4312-8187-85231d46c334",
   "metadata": {},
   "source": [
    ".mean"
   ]
  },
  {
   "cell_type": "markdown",
   "id": "fa471f64-df3f-4d75-9ffe-9ce6d41714e4",
   "metadata": {},
   "source": [
    ".min"
   ]
  },
  {
   "cell_type": "markdown",
   "id": "2d6a2084-0013-4587-989e-0ad9e91a60bd",
   "metadata": {},
   "source": [
    ".max"
   ]
  },
  {
   "cell_type": "markdown",
   "id": "c7f306c5-e46b-4e8d-bf92-270d11574322",
   "metadata": {},
   "source": [
    ".ones()"
   ]
  },
  {
   "cell_type": "markdown",
   "id": "ed08129f-c96c-4926-888c-dcea5906ae7d",
   "metadata": {},
   "source": [
    ".pi"
   ]
  },
  {
   "cell_type": "markdown",
   "id": "1b5a1841-bf85-4fbb-a475-ad6f6126a3e0",
   "metadata": {},
   "source": [
    ".random.uniform()"
   ]
  },
  {
   "cell_type": "markdown",
   "id": "e002b3a8-e8e8-4057-84a7-2f1200e1bcac",
   "metadata": {},
   "source": [
    ".random.randint"
   ]
  },
  {
   "cell_type": "markdown",
   "id": "5795d80d-8e4e-4b56-af4a-1fa54aa5434d",
   "metadata": {},
   "source": [
    ".reshape"
   ]
  },
  {
   "cell_type": "markdown",
   "id": "add25b58-68ce-4d7c-bd06-5a1a3d41b0af",
   "metadata": {},
   "source": [
    ".roll()"
   ]
  },
  {
   "cell_type": "markdown",
   "id": "acf04c16-dfd6-405c-93e0-5d8b00c95f2e",
   "metadata": {},
   "source": [
    ".round()"
   ]
  },
  {
   "cell_type": "markdown",
   "id": "f0ec04a3-0b5e-4bee-ab82-d76d51bae3be",
   "metadata": {},
   "source": [
    ".sin()"
   ]
  },
  {
   "cell_type": "markdown",
   "id": "ef56fca3-a596-4d7b-ad96-45c1a0d7cc6d",
   "metadata": {},
   "source": [
    ".shape"
   ]
  },
  {
   "cell_type": "markdown",
   "id": "56635e44-4f86-45bf-8489-b440679a05f9",
   "metadata": {},
   "source": [
    ".sqrt()"
   ]
  },
  {
   "cell_type": "markdown",
   "id": "6be255ff-4ab1-435e-86b8-578120e4675a",
   "metadata": {},
   "source": [
    ".std()"
   ]
  },
  {
   "cell_type": "markdown",
   "id": "0514c3e3-1fa9-42b5-b166-7ba3465b20d3",
   "metadata": {},
   "source": [
    ".sum()"
   ]
  },
  {
   "cell_type": "markdown",
   "id": "328debda-da50-4679-b75a-a4f09f06eb57",
   "metadata": {},
   "source": [
    ".unique()"
   ]
  },
  {
   "cell_type": "markdown",
   "id": "29b189a8-80c0-444d-8ec6-828cdfd0ccba",
   "metadata": {},
   "source": [
    ".where()"
   ]
  },
  {
   "cell_type": "markdown",
   "id": "d9f0ab93-acaa-4912-8d21-3502ce410bf3",
   "metadata": {},
   "source": [
    ".zeros()"
   ]
  },
  {
   "cell_type": "markdown",
   "id": "51f92055-11b0-49ed-b733-61b063b9497e",
   "metadata": {},
   "source": [
    "## matplotlib.pyplot"
   ]
  },
  {
   "cell_type": "markdown",
   "id": "f6e2067b-a070-4b36-9886-b2ad05cdf57c",
   "metadata": {},
   "source": [
    ".grid()"
   ]
  },
  {
   "cell_type": "markdown",
   "id": "13d2a2f7-ac87-4581-9584-943a9602eff8",
   "metadata": {},
   "source": [
    ".imread()"
   ]
  },
  {
   "cell_type": "markdown",
   "id": "eb5ee716-5b25-4f89-9cf1-db81f993d3a3",
   "metadata": {},
   "source": [
    ".imshow()"
   ]
  },
  {
   "cell_type": "markdown",
   "id": "d51b52c8-0de1-4176-9f17-15b4d960f4c5",
   "metadata": {},
   "source": [
    ".legend()"
   ]
  },
  {
   "cell_type": "markdown",
   "id": "c6e1df37-4112-462d-a3ac-076ae789729e",
   "metadata": {},
   "source": [
    ".linspace()"
   ]
  },
  {
   "cell_type": "markdown",
   "id": "f600088d-466c-499a-9cd5-178e639cfd2e",
   "metadata": {},
   "source": [
    ".plot()"
   ]
  },
  {
   "cell_type": "markdown",
   "id": "c66e6e4a-b8de-4a61-87b1-cb2f3facd1b4",
   "metadata": {},
   "source": [
    ".set_title()"
   ]
  },
  {
   "cell_type": "markdown",
   "id": "d0e4e73a-eff2-4a15-9ba0-e424ec59583b",
   "metadata": {},
   "source": [
    ".set_xlabel()"
   ]
  },
  {
   "cell_type": "markdown",
   "id": "fc7fc0e7-473e-4759-b132-b8f753a0c779",
   "metadata": {},
   "source": [
    ".set_ylabel()"
   ]
  },
  {
   "cell_type": "markdown",
   "id": "ac6da77f-5455-4c48-8acd-675a5ecc65d4",
   "metadata": {},
   "source": [
    ".set_ylim()"
   ]
  },
  {
   "cell_type": "markdown",
   "id": "23778368-4f5c-4626-88e1-24174f398c5d",
   "metadata": {},
   "source": [
    ".show()"
   ]
  },
  {
   "cell_type": "markdown",
   "id": "96755348-85e6-4995-8122-605991534e21",
   "metadata": {},
   "source": [
    ".subplots()"
   ]
  },
  {
   "cell_type": "code",
   "execution_count": null,
   "id": "b2d6d14c-2da3-40fb-858e-cea99bcd7655",
   "metadata": {},
   "outputs": [],
   "source": []
  }
 ],
 "metadata": {
  "kernelspec": {
   "display_name": "Python 3 (ipykernel)",
   "language": "python",
   "name": "python3"
  },
  "language_info": {
   "codemirror_mode": {
    "name": "ipython",
    "version": 3
   },
   "file_extension": ".py",
   "mimetype": "text/x-python",
   "name": "python",
   "nbconvert_exporter": "python",
   "pygments_lexer": "ipython3",
   "version": "3.12.4"
  }
 },
 "nbformat": 4,
 "nbformat_minor": 5
}
