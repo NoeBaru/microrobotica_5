{
 "cells": [
  {
   "cell_type": "markdown",
   "id": "87c97347-32b6-4d1d-8f25-262dad527f8d",
   "metadata": {},
   "source": [
    "# ES23\n",
    "## Noemi Baruffolo 5^AROB\n",
    "### laureati pag.153 es.11"
   ]
  },
  {
   "cell_type": "code",
   "execution_count": 4,
   "id": "ef2b818f-97f9-44f4-9aca-8e721e39f819",
   "metadata": {},
   "outputs": [],
   "source": [
    "import numpy as np\n",
    "import matplotlib.pyplot as plt\n",
    "import pandas as pd"
   ]
  },
  {
   "cell_type": "code",
   "execution_count": 22,
   "id": "12ee9c39-e187-49b9-9886-7ff64ac0691a",
   "metadata": {},
   "outputs": [
    {
     "data": {
      "text/html": [
       "<div>\n",
       "<style scoped>\n",
       "    .dataframe tbody tr th:only-of-type {\n",
       "        vertical-align: middle;\n",
       "    }\n",
       "\n",
       "    .dataframe tbody tr th {\n",
       "        vertical-align: top;\n",
       "    }\n",
       "\n",
       "    .dataframe thead th {\n",
       "        text-align: right;\n",
       "    }\n",
       "</style>\n",
       "<table border=\"1\" class=\"dataframe\">\n",
       "  <thead>\n",
       "    <tr style=\"text-align: right;\">\n",
       "      <th></th>\n",
       "      <th>AnnoS</th>\n",
       "      <th>AteneoCOD</th>\n",
       "      <th>AteneoNOME</th>\n",
       "      <th>SESSO</th>\n",
       "      <th>Lau</th>\n",
       "    </tr>\n",
       "  </thead>\n",
       "  <tbody>\n",
       "    <tr>\n",
       "      <th>0</th>\n",
       "      <td>2023</td>\n",
       "      <td>101</td>\n",
       "      <td>Torino</td>\n",
       "      <td>F</td>\n",
       "      <td>6611</td>\n",
       "    </tr>\n",
       "    <tr>\n",
       "      <th>1</th>\n",
       "      <td>2023</td>\n",
       "      <td>101</td>\n",
       "      <td>Torino</td>\n",
       "      <td>M</td>\n",
       "      <td>4045</td>\n",
       "    </tr>\n",
       "    <tr>\n",
       "      <th>2</th>\n",
       "      <td>2023</td>\n",
       "      <td>102</td>\n",
       "      <td>Torino Politecnico</td>\n",
       "      <td>F</td>\n",
       "      <td>2466</td>\n",
       "    </tr>\n",
       "    <tr>\n",
       "      <th>3</th>\n",
       "      <td>2023</td>\n",
       "      <td>102</td>\n",
       "      <td>Torino Politecnico</td>\n",
       "      <td>M</td>\n",
       "      <td>5264</td>\n",
       "    </tr>\n",
       "    <tr>\n",
       "      <th>4</th>\n",
       "      <td>2023</td>\n",
       "      <td>201</td>\n",
       "      <td>Piemonte Orientale</td>\n",
       "      <td>F</td>\n",
       "      <td>1513</td>\n",
       "    </tr>\n",
       "  </tbody>\n",
       "</table>\n",
       "</div>"
      ],
      "text/plain": [
       "   AnnoS  AteneoCOD          AteneoNOME SESSO   Lau\n",
       "0   2023        101              Torino     F  6611\n",
       "1   2023        101              Torino     M  4045\n",
       "2   2023        102  Torino Politecnico     F  2466\n",
       "3   2023        102  Torino Politecnico     M  5264\n",
       "4   2023        201  Piemonte Orientale     F  1513"
      ]
     },
     "execution_count": 22,
     "metadata": {},
     "output_type": "execute_result"
    }
   ],
   "source": [
    "laureatiAteneo = pd.read_csv('./csv/02_laureatixateneo.csv', sep = ';')\n",
    "laureatiAteneo.head()"
   ]
  },
  {
   "cell_type": "code",
   "execution_count": 12,
   "id": "5629de24-8fc9-421b-bd4d-4bd0cfbbb899",
   "metadata": {},
   "outputs": [
    {
     "name": "stdout",
     "output_type": "stream",
     "text": [
      "<class 'pandas.core.frame.DataFrame'>\n",
      "RangeIndex: 3915 entries, 0 to 3914\n",
      "Data columns (total 1 columns):\n",
      " #   Column                                Non-Null Count  Dtype \n",
      "---  ------                                --------------  ----- \n",
      " 0   AnnoS;AteneoCOD;AteneoNOME;SESSO;Lau  3915 non-null   object\n",
      "dtypes: object(1)\n",
      "memory usage: 30.7+ KB\n"
     ]
    }
   ],
   "source": [
    "laureatiAteneo.info()"
   ]
  },
  {
   "cell_type": "code",
   "execution_count": 30,
   "id": "f8ed1384-55c8-4807-ba44-cb6600054f4b",
   "metadata": {},
   "outputs": [
    {
     "data": {
      "text/plain": [
       "AteneoCOD\n",
       "101     46\n",
       "5807    46\n",
       "6303    46\n",
       "6302    46\n",
       "6301    46\n",
       "        ..\n",
       "5814    28\n",
       "4804    27\n",
       "5817    21\n",
       "1510    16\n",
       "5818     6\n",
       "Name: count, Length: 92, dtype: int64"
      ]
     },
     "execution_count": 30,
     "metadata": {},
     "output_type": "execute_result"
    }
   ],
   "source": [
    "laureatiAteneo[\"AteneoCOD\"].value_counts()"
   ]
  },
  {
   "cell_type": "code",
   "execution_count": 28,
   "id": "a0e0a9fd-5808-43ec-a93c-9fca541860fd",
   "metadata": {},
   "outputs": [
    {
     "data": {
      "text/html": [
       "<div>\n",
       "<style scoped>\n",
       "    .dataframe tbody tr th:only-of-type {\n",
       "        vertical-align: middle;\n",
       "    }\n",
       "\n",
       "    .dataframe tbody tr th {\n",
       "        vertical-align: top;\n",
       "    }\n",
       "\n",
       "    .dataframe thead th {\n",
       "        text-align: right;\n",
       "    }\n",
       "</style>\n",
       "<table border=\"1\" class=\"dataframe\">\n",
       "  <thead>\n",
       "    <tr style=\"text-align: right;\">\n",
       "      <th></th>\n",
       "      <th>AnnoS</th>\n",
       "      <th>CODIstatProv</th>\n",
       "      <th>ProvinciaRES</th>\n",
       "      <th>CODIstatComune</th>\n",
       "      <th>ComuneRES</th>\n",
       "      <th>SESSO</th>\n",
       "      <th>Lau</th>\n",
       "    </tr>\n",
       "  </thead>\n",
       "  <tbody>\n",
       "    <tr>\n",
       "      <th>0</th>\n",
       "      <td>2023</td>\n",
       "      <td>1</td>\n",
       "      <td>TORINO</td>\n",
       "      <td>1001</td>\n",
       "      <td>AGLIE'</td>\n",
       "      <td>F</td>\n",
       "      <td>3</td>\n",
       "    </tr>\n",
       "    <tr>\n",
       "      <th>1</th>\n",
       "      <td>2023</td>\n",
       "      <td>1</td>\n",
       "      <td>TORINO</td>\n",
       "      <td>1001</td>\n",
       "      <td>AGLIE'</td>\n",
       "      <td>M</td>\n",
       "      <td>7</td>\n",
       "    </tr>\n",
       "    <tr>\n",
       "      <th>2</th>\n",
       "      <td>2023</td>\n",
       "      <td>1</td>\n",
       "      <td>TORINO</td>\n",
       "      <td>1002</td>\n",
       "      <td>AIRASCA</td>\n",
       "      <td>F</td>\n",
       "      <td>9</td>\n",
       "    </tr>\n",
       "    <tr>\n",
       "      <th>3</th>\n",
       "      <td>2023</td>\n",
       "      <td>1</td>\n",
       "      <td>TORINO</td>\n",
       "      <td>1002</td>\n",
       "      <td>AIRASCA</td>\n",
       "      <td>M</td>\n",
       "      <td>6</td>\n",
       "    </tr>\n",
       "    <tr>\n",
       "      <th>4</th>\n",
       "      <td>2023</td>\n",
       "      <td>1</td>\n",
       "      <td>TORINO</td>\n",
       "      <td>1003</td>\n",
       "      <td>ALA DI STURA</td>\n",
       "      <td>M</td>\n",
       "      <td>2</td>\n",
       "    </tr>\n",
       "  </tbody>\n",
       "</table>\n",
       "</div>"
      ],
      "text/plain": [
       "   AnnoS  CODIstatProv ProvinciaRES  CODIstatComune     ComuneRES SESSO  Lau\n",
       "0   2023             1       TORINO            1001        AGLIE'     F    3\n",
       "1   2023             1       TORINO            1001        AGLIE'     M    7\n",
       "2   2023             1       TORINO            1002       AIRASCA     F    9\n",
       "3   2023             1       TORINO            1002       AIRASCA     M    6\n",
       "4   2023             1       TORINO            1003  ALA DI STURA     M    2"
      ]
     },
     "execution_count": 28,
     "metadata": {},
     "output_type": "execute_result"
    }
   ],
   "source": [
    "laureatiResidenza = pd.read_csv('./csv/07_laureatixresidenza.csv', sep = ';')\n",
    "laureatiResidenza.head()"
   ]
  },
  {
   "cell_type": "code",
   "execution_count": 20,
   "id": "21097532-f431-4ea5-9e34-ed721b316eea",
   "metadata": {},
   "outputs": [
    {
     "name": "stdout",
     "output_type": "stream",
     "text": [
      "<class 'pandas.core.frame.DataFrame'>\n",
      "RangeIndex: 194158 entries, 0 to 194157\n",
      "Data columns (total 1 columns):\n",
      " #   Column                                                              Non-Null Count   Dtype \n",
      "---  ------                                                              --------------   ----- \n",
      " 0   AnnoS;CODIstatProv;ProvinciaRES;CODIstatComune;ComuneRES;SESSO;Lau  194158 non-null  object\n",
      "dtypes: object(1)\n",
      "memory usage: 1.5+ MB\n"
     ]
    }
   ],
   "source": [
    "laureatiResidenza.info()"
   ]
  },
  {
   "cell_type": "code",
   "execution_count": 34,
   "id": "a2f53e5f-3757-489a-8eb5-b9af65a7407d",
   "metadata": {},
   "outputs": [
    {
     "data": {
      "text/plain": [
       "ProvinciaRES\n",
       "TORINO                       7040\n",
       "BERGAMO                      5967\n",
       "BRESCIA                      5288\n",
       "TRENTO                       4664\n",
       "CUNEO                        4381\n",
       "                             ... \n",
       "BARLETTA - ANDRIA - TRANI     280\n",
       "PRATO                         196\n",
       "TRIESTE                       166\n",
       "PROVINCIA ESTERA               30\n",
       "PROVINCIA NON DEFINITA         28\n",
       "Name: count, Length: 108, dtype: int64"
      ]
     },
     "execution_count": 34,
     "metadata": {},
     "output_type": "execute_result"
    }
   ],
   "source": [
    "laureatiResidenza[\"ProvinciaRES\"].value_counts()"
   ]
  },
  {
   "cell_type": "code",
   "execution_count": 36,
   "id": "a207e775-8e45-40b8-9bc8-bdf71d0ebc5f",
   "metadata": {},
   "outputs": [
    {
     "data": {
      "text/plain": [
       "SESSO\n",
       "F    100378\n",
       "M     93780\n",
       "Name: count, dtype: int64"
      ]
     },
     "execution_count": 36,
     "metadata": {},
     "output_type": "execute_result"
    }
   ],
   "source": [
    "laureatiResidenza[\"SESSO\"].value_counts()"
   ]
  },
  {
   "cell_type": "code",
   "execution_count": 24,
   "id": "6fd627ae-446b-4106-bd94-436ea267c001",
   "metadata": {},
   "outputs": [
    {
     "data": {
      "text/html": [
       "<div>\n",
       "<style scoped>\n",
       "    .dataframe tbody tr th:only-of-type {\n",
       "        vertical-align: middle;\n",
       "    }\n",
       "\n",
       "    .dataframe tbody tr th {\n",
       "        vertical-align: top;\n",
       "    }\n",
       "\n",
       "    .dataframe thead th {\n",
       "        text-align: right;\n",
       "    }\n",
       "</style>\n",
       "<table border=\"1\" class=\"dataframe\">\n",
       "  <thead>\n",
       "    <tr style=\"text-align: right;\">\n",
       "      <th></th>\n",
       "      <th>AnnoS</th>\n",
       "      <th>CorsoTIPO</th>\n",
       "      <th>SESSO</th>\n",
       "      <th>Lau</th>\n",
       "    </tr>\n",
       "  </thead>\n",
       "  <tbody>\n",
       "    <tr>\n",
       "      <th>0</th>\n",
       "      <td>2023</td>\n",
       "      <td>Corso di Laurea - vecchio ordinamento</td>\n",
       "      <td>M</td>\n",
       "      <td>105</td>\n",
       "    </tr>\n",
       "    <tr>\n",
       "      <th>1</th>\n",
       "      <td>2023</td>\n",
       "      <td>Laurea - dm 270/04</td>\n",
       "      <td>F</td>\n",
       "      <td>120410</td>\n",
       "    </tr>\n",
       "    <tr>\n",
       "      <th>2</th>\n",
       "      <td>2023</td>\n",
       "      <td>Laurea Magistrale - dm 270/04</td>\n",
       "      <td>F</td>\n",
       "      <td>76489</td>\n",
       "    </tr>\n",
       "    <tr>\n",
       "      <th>3</th>\n",
       "      <td>2023</td>\n",
       "      <td>Laurea Specialistica - dm 509/99</td>\n",
       "      <td>M</td>\n",
       "      <td>35</td>\n",
       "    </tr>\n",
       "    <tr>\n",
       "      <th>4</th>\n",
       "      <td>2023</td>\n",
       "      <td>Laurea Magistrale a Ciclo Unico - dm 270/04</td>\n",
       "      <td>F</td>\n",
       "      <td>23630</td>\n",
       "    </tr>\n",
       "  </tbody>\n",
       "</table>\n",
       "</div>"
      ],
      "text/plain": [
       "   AnnoS                                    CorsoTIPO SESSO     Lau\n",
       "0   2023        Corso di Laurea - vecchio ordinamento     M     105\n",
       "1   2023                           Laurea - dm 270/04     F  120410\n",
       "2   2023                Laurea Magistrale - dm 270/04     F   76489\n",
       "3   2023             Laurea Specialistica - dm 509/99     M      35\n",
       "4   2023  Laurea Magistrale a Ciclo Unico - dm 270/04     F   23630"
      ]
     },
     "execution_count": 24,
     "metadata": {},
     "output_type": "execute_result"
    }
   ],
   "source": [
    "tipoCorso = pd.read_csv('./csv/04_laureatixtipocorso.csv', sep = ';')\n",
    "tipoCorso.head()"
   ]
  },
  {
   "cell_type": "code",
   "execution_count": 26,
   "id": "8c36d9fc-2bdb-47d0-93e0-47444da1e975",
   "metadata": {},
   "outputs": [
    {
     "name": "stdout",
     "output_type": "stream",
     "text": [
      "<class 'pandas.core.frame.DataFrame'>\n",
      "RangeIndex: 277 entries, 0 to 276\n",
      "Data columns (total 4 columns):\n",
      " #   Column     Non-Null Count  Dtype \n",
      "---  ------     --------------  ----- \n",
      " 0   AnnoS      277 non-null    int64 \n",
      " 1   CorsoTIPO  277 non-null    object\n",
      " 2   SESSO      277 non-null    object\n",
      " 3   Lau        277 non-null    int64 \n",
      "dtypes: int64(2), object(2)\n",
      "memory usage: 8.8+ KB\n"
     ]
    }
   ],
   "source": [
    "tipoCorso.info()"
   ]
  },
  {
   "cell_type": "code",
   "execution_count": 42,
   "id": "0d9735b2-22b3-4107-a515-dfdacb781dfe",
   "metadata": {},
   "outputs": [
    {
     "data": {
      "text/plain": [
       "CorsoTIPO\n",
       "Corso di Laurea - vecchio ordinamento             46\n",
       "Laurea Specialistica - dm 509/99                  46\n",
       "Laurea  - dm 509/99                               46\n",
       "Laurea Specialistica a Ciclo Unico - dm 509/99    44\n",
       "Laurea Magistrale a Ciclo Unico - dm 270/04       34\n",
       "Laurea Magistrale - dm 270/04                     31\n",
       "Laurea - dm 270/04                                30\n",
       "Name: count, dtype: int64"
      ]
     },
     "execution_count": 42,
     "metadata": {},
     "output_type": "execute_result"
    }
   ],
   "source": [
    "tipoCorso[\"CorsoTIPO\"].value_counts()"
   ]
  },
  {
   "cell_type": "code",
   "execution_count": 44,
   "id": "1fa77299-fb59-4b6b-94b6-21e72962360a",
   "metadata": {},
   "outputs": [
    {
     "data": {
      "text/plain": [
       "SESSO\n",
       "F    139\n",
       "M    138\n",
       "Name: count, dtype: int64"
      ]
     },
     "execution_count": 44,
     "metadata": {},
     "output_type": "execute_result"
    }
   ],
   "source": [
    "tipoCorso[\"SESSO\"].value_counts()"
   ]
  },
  {
   "cell_type": "code",
   "execution_count": 80,
   "id": "803d920e-dc76-4118-9a29-5916e55a4fdc",
   "metadata": {},
   "outputs": [
    {
     "ename": "TypeError",
     "evalue": "'DataFrame' object is not callable",
     "output_type": "error",
     "traceback": [
      "\u001b[1;31m---------------------------------------------------------------------------\u001b[0m",
      "\u001b[1;31mTypeError\u001b[0m                                 Traceback (most recent call last)",
      "Cell \u001b[1;32mIn[80], line 2\u001b[0m\n\u001b[0;32m      1\u001b[0m \u001b[38;5;66;03m# cercare quanti/e laureati/e nel mio comune e fare il grafico a linea\u001b[39;00m\n\u001b[1;32m----> 2\u001b[0m femmine \u001b[38;5;241m=\u001b[39m laureatiResidenza(laureatiResidenza[\u001b[38;5;124m\"\u001b[39m\u001b[38;5;124mComuneRES\u001b[39m\u001b[38;5;124m\"\u001b[39m]\u001b[38;5;241m==\u001b[39m \u001b[38;5;124m\"\u001b[39m\u001b[38;5;124mCHIUSA DI PESIO\u001b[39m\u001b[38;5;124m\"\u001b[39m) \u001b[38;5;241m&\u001b[39m (laureatiResidenza[\u001b[38;5;124m\"\u001b[39m\u001b[38;5;124mSESSO\u001b[39m\u001b[38;5;124m\"\u001b[39m] \u001b[38;5;241m==\u001b[39m \u001b[38;5;124m\"\u001b[39m\u001b[38;5;124mF\u001b[39m\u001b[38;5;124m\"\u001b[39m)[[\u001b[38;5;124m\"\u001b[39m\u001b[38;5;124mAnnoS\u001b[39m\u001b[38;5;124m\"\u001b[39m, \u001b[38;5;124m\"\u001b[39m\u001b[38;5;124mLau\u001b[39m\u001b[38;5;124m\"\u001b[39m]]\u001b[38;5;241m.\u001b[39mgroupby(\u001b[38;5;124m\"\u001b[39m\u001b[38;5;124mAnnoS\u001b[39m\u001b[38;5;124m\"\u001b[39m)\u001b[38;5;241m.\u001b[39msum()\n",
      "\u001b[1;31mTypeError\u001b[0m: 'DataFrame' object is not callable"
     ]
    }
   ],
   "source": [
    "# cercare quanti/e laureati/e nel mio comune e fare il grafico a linea\n",
    "femmine = laureatiResidenza(laureatiResidenza[\"ComuneRES\"]== \"CHIUSA DI PESIO\") & (laureatiResidenza[\"SESSO\"] == \"F\")[[\"AnnoS\", \"Lau\"]].groupby(\"AnnoS\").sum()"
   ]
  },
  {
   "cell_type": "code",
   "execution_count": 72,
   "id": "ee3322a8-6327-411a-a76f-d9ddbea2c1a0",
   "metadata": {},
   "outputs": [
    {
     "ename": "SyntaxError",
     "evalue": "closing parenthesis ']' does not match opening parenthesis '(' (3419654683.py, line 2)",
     "output_type": "error",
     "traceback": [
      "\u001b[1;36m  Cell \u001b[1;32mIn[72], line 2\u001b[1;36m\u001b[0m\n\u001b[1;33m    femmine = laureatiResidenza(laureatiResidenza[\"ComuneRES\"]== \"CHIUSA DI PESIO\"]) & (laureatiResidenza[\"SESSO\"] == \"F\"])[[\"AnnoS\", \"Lau\"]].groupby(\"AnnoS\").sum()\u001b[0m\n\u001b[1;37m                                                                                  ^\u001b[0m\n\u001b[1;31mSyntaxError\u001b[0m\u001b[1;31m:\u001b[0m closing parenthesis ']' does not match opening parenthesis '('\n"
     ]
    }
   ],
   "source": [
    "# cercare quanti/e laureati/e nel mio comune e fare il grafico a linea\n",
    "maschi = laureatiResidenza(laureatiResidenza[\"ComuneRES\"]== \"CHIUSA DI PESIO\"]) & (laureatiResidenza[\"SESSO\"] == \"M\"])[[\"AnnoS\", \"Lau\"]].groupby(\"AnnoS\").sum()"
   ]
  },
  {
   "cell_type": "code",
   "execution_count": null,
   "id": "79550950-7ba9-4b6d-aded-5ae63f144764",
   "metadata": {},
   "outputs": [],
   "source": []
  }
 ],
 "metadata": {
  "kernelspec": {
   "display_name": "Python 3 (ipykernel)",
   "language": "python",
   "name": "python3"
  },
  "language_info": {
   "codemirror_mode": {
    "name": "ipython",
    "version": 3
   },
   "file_extension": ".py",
   "mimetype": "text/x-python",
   "name": "python",
   "nbconvert_exporter": "python",
   "pygments_lexer": "ipython3",
   "version": "3.12.4"
  }
 },
 "nbformat": 4,
 "nbformat_minor": 5
}
