{
 "cells": [
  {
   "cell_type": "markdown",
   "id": "a83b964c-d958-4bfb-b3ea-d5025d9fbc1c",
   "metadata": {},
   "source": [
    "# Numpy\n",
    "## Noemi Baruffolo 5^AROB\n",
    "## 8/10/2024"
   ]
  },
  {
   "cell_type": "code",
   "execution_count": 85,
   "id": "8fc60b9a-de2b-43eb-a839-d1f7d16636e0",
   "metadata": {},
   "outputs": [],
   "source": [
    "import numpy as np"
   ]
  },
  {
   "cell_type": "markdown",
   "id": "59fc8c4e-e534-4f5c-b87a-4f3ab3cc6f06",
   "metadata": {},
   "source": [
    "## Array\n",
    "### Array 1d (1 dimensione)"
   ]
  },
  {
   "cell_type": "code",
   "execution_count": 87,
   "id": "5a6fe83c-6943-4541-9897-711483579ddc",
   "metadata": {},
   "outputs": [
    {
     "data": {
      "text/plain": [
       "array([1., 2., 3., 4.])"
      ]
     },
     "execution_count": 87,
     "metadata": {},
     "output_type": "execute_result"
    }
   ],
   "source": [
    "#creare un array a partire da una lista\n",
    "list = [1, 2, 3, 4] # se metto 1. sono float\n",
    "array = np.array(list, dtype=np.float64) #così scelgo quanti bit mettere\n",
    "array"
   ]
  },
  {
   "cell_type": "code",
   "execution_count": 88,
   "id": "f42eea11-c7ac-4198-8c68-17f23d396dfe",
   "metadata": {},
   "outputs": [
    {
     "data": {
      "text/plain": [
       "dtype('float64')"
      ]
     },
     "execution_count": 88,
     "metadata": {},
     "output_type": "execute_result"
    }
   ],
   "source": [
    "array.dtype #fa uscire fuori il valore della variabile"
   ]
  },
  {
   "cell_type": "code",
   "execution_count": 89,
   "id": "0671b3ac-3775-49fa-9ca7-df075a5fc97a",
   "metadata": {},
   "outputs": [
    {
     "data": {
      "text/plain": [
       "array([0, 0, 0, 0, 0], dtype=int64)"
      ]
     },
     "execution_count": 89,
     "metadata": {},
     "output_type": "execute_result"
    }
   ],
   "source": [
    "#creare un array di zeri\n",
    "array = np.zeros(5, dtype=np.int64) # se metto 5, 7 fa una matrice 5x7\n",
    "array"
   ]
  },
  {
   "cell_type": "code",
   "execution_count": 90,
   "id": "d662c240-05b1-41df-b944-ad3890650e02",
   "metadata": {},
   "outputs": [
    {
     "data": {
      "text/plain": [
       "dtype('int64')"
      ]
     },
     "execution_count": 90,
     "metadata": {},
     "output_type": "execute_result"
    }
   ],
   "source": [
    "array.dtype"
   ]
  },
  {
   "cell_type": "code",
   "execution_count": 91,
   "id": "83e675d6-758b-4461-b3c1-a67a55bf634d",
   "metadata": {},
   "outputs": [
    {
     "data": {
      "text/plain": [
       "array([1., 1., 1., 1., 1., 1., 1.], dtype=float16)"
      ]
     },
     "execution_count": 91,
     "metadata": {},
     "output_type": "execute_result"
    }
   ],
   "source": [
    "#creare un array di uni\n",
    "array = np.ones(7, dtype=np.float16)\n",
    "array"
   ]
  },
  {
   "cell_type": "markdown",
   "id": "2c42d3c3-83e2-4001-a497-aa28c85f606f",
   "metadata": {},
   "source": [
    "**Per gli array valgono le regole di indicizzazione e di slicing che valgono per le liste o le stringhe Python.**\n",
    "\n",
    "*Quindi conosciamo già l'argomento*"
   ]
  },
  {
   "cell_type": "code",
   "execution_count": 93,
   "id": "2b05ab0f-82f5-4b5f-a0fb-ec19ac032f6a",
   "metadata": {},
   "outputs": [
    {
     "data": {
      "text/plain": [
       "array([ -1. ,   2.5,   3. ,   5. ,   7.5, -10. ])"
      ]
     },
     "execution_count": 93,
     "metadata": {},
     "output_type": "execute_result"
    }
   ],
   "source": [
    "list = [-1., 2.5, 3, 5., 7.5, -10.] #se ci sono float ed interi usa float, se non trova un tipo che includa tutti gli altri fa un array di oggetti\n",
    "array = np.array(list)\n",
    "array"
   ]
  },
  {
   "cell_type": "code",
   "execution_count": 94,
   "id": "98b1da5c-c8e0-4ebd-b9b1-04ef15598db0",
   "metadata": {},
   "outputs": [
    {
     "data": {
      "text/plain": [
       "5.0"
      ]
     },
     "execution_count": 94,
     "metadata": {},
     "output_type": "execute_result"
    }
   ],
   "source": [
    "#indicizzazione come per le liste\n",
    "array[3]"
   ]
  },
  {
   "cell_type": "code",
   "execution_count": 95,
   "id": "22e10757-1b71-4fe6-bab5-4c9aabe20abe",
   "metadata": {},
   "outputs": [
    {
     "data": {
      "text/plain": [
       "-10.0"
      ]
     },
     "execution_count": 95,
     "metadata": {},
     "output_type": "execute_result"
    }
   ],
   "source": [
    "#indicizzazione come per le liste\n",
    "array[-1]"
   ]
  },
  {
   "cell_type": "code",
   "execution_count": 96,
   "id": "c161b9ed-1c87-489c-9ce0-ec3a04d31dfd",
   "metadata": {},
   "outputs": [
    {
     "data": {
      "text/plain": [
       "array([-1. ,  2.5,  3. ])"
      ]
     },
     "execution_count": 96,
     "metadata": {},
     "output_type": "execute_result"
    }
   ],
   "source": [
    "#slicing come per le liste\n",
    "array[:3] #da 0 a indice 3 escluso"
   ]
  },
  {
   "cell_type": "code",
   "execution_count": 97,
   "id": "be4f9939-60e0-4d80-b400-010f7c4ee6fd",
   "metadata": {},
   "outputs": [
    {
     "data": {
      "text/plain": [
       "array([-10. ,   7.5,   5. ,   3. ,   2.5,  -1. ])"
      ]
     },
     "execution_count": 97,
     "metadata": {},
     "output_type": "execute_result"
    }
   ],
   "source": [
    "array[::-1]"
   ]
  },
  {
   "cell_type": "code",
   "execution_count": 98,
   "id": "f39a6586-6c59-4098-a9e0-3cf2c5f89a5d",
   "metadata": {},
   "outputs": [
    {
     "data": {
      "text/plain": [
       "array([ -1. ,   2.5,   3. ,   5. ,   7.5, -10. ])"
      ]
     },
     "execution_count": 98,
     "metadata": {},
     "output_type": "execute_result"
    }
   ],
   "source": [
    "array"
   ]
  },
  {
   "cell_type": "markdown",
   "id": "a93f8b1f-c8bb-401b-ba1e-8ff7aea4900f",
   "metadata": {},
   "source": [
    "**Indicizzazione e slicing sugli array numpy permettono anche di fare assegnamento**"
   ]
  },
  {
   "cell_type": "code",
   "execution_count": 100,
   "id": "281a1b60-ae06-4b8f-9b2d-42a539370353",
   "metadata": {},
   "outputs": [
    {
     "data": {
      "text/plain": [
       "array([ -1. ,   2.5,   3. ,   5. ,   7.5, -10. ])"
      ]
     },
     "execution_count": 100,
     "metadata": {},
     "output_type": "execute_result"
    }
   ],
   "source": [
    "array"
   ]
  },
  {
   "cell_type": "code",
   "execution_count": 101,
   "id": "ba2556ed-b00f-43e7-bae3-31b7897d8a37",
   "metadata": {},
   "outputs": [],
   "source": [
    "array[:3] = 9 #broadcasting (!= da quello delle reti)"
   ]
  },
  {
   "cell_type": "code",
   "execution_count": 102,
   "id": "79c7bbc4-b086-4a5d-96d5-e005a98e3315",
   "metadata": {},
   "outputs": [
    {
     "data": {
      "text/plain": [
       "array([  9. ,   9. ,   9. ,   5. ,   7.5, -10. ])"
      ]
     },
     "execution_count": 102,
     "metadata": {},
     "output_type": "execute_result"
    }
   ],
   "source": [
    "array"
   ]
  },
  {
   "cell_type": "code",
   "execution_count": 103,
   "id": "cd329ee1-2d88-43cb-9019-e95f9d3dd26b",
   "metadata": {},
   "outputs": [],
   "source": [
    "array[:3] = np.array([1,2,3]) #numero di numeri pari a quanti ce ne sono da assegnare"
   ]
  },
  {
   "cell_type": "code",
   "execution_count": 104,
   "id": "fe21208a-b8d6-4fdd-91f0-38aa45f0fd5a",
   "metadata": {},
   "outputs": [
    {
     "data": {
      "text/plain": [
       "array([  1. ,   2. ,   3. ,   5. ,   7.5, -10. ])"
      ]
     },
     "execution_count": 104,
     "metadata": {},
     "output_type": "execute_result"
    }
   ],
   "source": [
    "array"
   ]
  },
  {
   "cell_type": "markdown",
   "id": "5913564b-1f66-4e73-94de-e9373f9107ad",
   "metadata": {},
   "source": [
    "### ES03\n",
    "Dato un numero intero > 1, creare un array di interi di lunghezza n che abbia la norma seguente (esempio per n=5):\n",
    "\n",
    "`[0, 1, 0, 1, 0]`"
   ]
  },
  {
   "cell_type": "code",
   "execution_count": 142,
   "id": "0c48318b-3059-4fcb-8f23-4e123012fefc",
   "metadata": {},
   "outputs": [
    {
     "name": "stdin",
     "output_type": "stream",
     "text": [
      "Inserisci un numero > 1:  5\n"
     ]
    },
    {
     "data": {
      "text/plain": [
       "array([0, 1, 0, 1, 0], dtype=int8)"
      ]
     },
     "execution_count": 142,
     "metadata": {},
     "output_type": "execute_result"
    }
   ],
   "source": [
    "num = int(input(\"Inserisci un numero > 1: \"))\n",
    "array = np.zeros(num, dtype=np.int8)\n",
    "array[1::2] = 1\n",
    "array"
   ]
  },
  {
   "cell_type": "markdown",
   "id": "fc43c26b-d229-418f-8cab-cb4febcd52ad",
   "metadata": {},
   "source": [
    "**Gli array di Numpy si comportano come i vettori della matematica**"
   ]
  },
  {
   "cell_type": "code",
   "execution_count": 145,
   "id": "dbc72a83-7550-4215-a200-778fc50a7db6",
   "metadata": {},
   "outputs": [
    {
     "data": {
      "text/plain": [
       "array([3., 5.])"
      ]
     },
     "execution_count": 145,
     "metadata": {},
     "output_type": "execute_result"
    }
   ],
   "source": [
    "point = np.array([3., 5.])\n",
    "point"
   ]
  },
  {
   "cell_type": "code",
   "execution_count": 153,
   "id": "07fceb63-c680-47e7-90f9-66ea44889860",
   "metadata": {},
   "outputs": [
    {
     "data": {
      "text/plain": [
       "array([4., 5.])"
      ]
     },
     "execution_count": 153,
     "metadata": {},
     "output_type": "execute_result"
    }
   ],
   "source": [
    "movement = np.array([1., 0.])\n",
    "newPos = point + movement #somma le x e le y dell'array\n",
    "newPos"
   ]
  },
  {
   "cell_type": "code",
   "execution_count": 157,
   "id": "6fadc92d-1e9c-4001-a96c-63c44d4609a5",
   "metadata": {},
   "outputs": [
    {
     "data": {
      "text/plain": [
       "[3.0, 5.0, 1.0, 0.0]"
      ]
     },
     "execution_count": 157,
     "metadata": {},
     "output_type": "execute_result"
    }
   ],
   "source": [
    "[3., 5.] + [1., 0.] #sommando liste concatena"
   ]
  },
  {
   "cell_type": "code",
   "execution_count": 161,
   "id": "76126c60-008c-4c4e-bdfe-619f66b1590f",
   "metadata": {},
   "outputs": [
    {
     "data": {
      "text/plain": [
       "array([20., 25.])"
      ]
     },
     "execution_count": 161,
     "metadata": {},
     "output_type": "execute_result"
    }
   ],
   "source": [
    "newPos*5 #zoom per 5, li moltiplica tuti"
   ]
  },
  {
   "cell_type": "code",
   "execution_count": 163,
   "id": "3ce36b59-85b5-4283-a90d-c6c167a1b000",
   "metadata": {},
   "outputs": [
    {
     "data": {
      "text/plain": [
       "[4, 5, 4, 5, 4, 5, 4, 5, 4, 5]"
      ]
     },
     "execution_count": 163,
     "metadata": {},
     "output_type": "execute_result"
    }
   ],
   "source": [
    "[4, 5] * 5 #moltiplicando la lista concatena e non moltiplica"
   ]
  },
  {
   "cell_type": "code",
   "execution_count": 167,
   "id": "4ec63941-3e74-406c-a1c3-4bf8dc399e8a",
   "metadata": {},
   "outputs": [
    {
     "data": {
      "text/plain": [
       "array([ 4,  5,  6,  7,  8,  9, 10, 11])"
      ]
     },
     "execution_count": 167,
     "metadata": {},
     "output_type": "execute_result"
    }
   ],
   "source": [
    "#un altro modo di creare array\n",
    "array = np.arange(4, 12)\n",
    "array"
   ]
  },
  {
   "cell_type": "code",
   "execution_count": 171,
   "id": "24fd76e2-f1c9-4097-bb09-24cb08cad8e3",
   "metadata": {},
   "outputs": [
    {
     "data": {
      "text/plain": [
       "array([12, 11, 10,  9,  8,  7,  6,  5])"
      ]
     },
     "execution_count": 171,
     "metadata": {},
     "output_type": "execute_result"
    }
   ],
   "source": [
    "#un altro modo di creare array ma invertiti\n",
    "array = np.arange(12, 4, -1)\n",
    "array"
   ]
  },
  {
   "cell_type": "code",
   "execution_count": null,
   "id": "f3d26bd1-f66c-41b8-8a84-28bd1bb3546d",
   "metadata": {},
   "outputs": [],
   "source": []
  }
 ],
 "metadata": {
  "kernelspec": {
   "display_name": "Python 3 (ipykernel)",
   "language": "python",
   "name": "python3"
  },
  "language_info": {
   "codemirror_mode": {
    "name": "ipython",
    "version": 3
   },
   "file_extension": ".py",
   "mimetype": "text/x-python",
   "name": "python",
   "nbconvert_exporter": "python",
   "pygments_lexer": "ipython3",
   "version": "3.12.4"
  }
 },
 "nbformat": 4,
 "nbformat_minor": 5
}
