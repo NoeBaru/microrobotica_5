{
 "cells": [
  {
   "cell_type": "markdown",
   "id": "fb2066e7-986d-427e-9ad1-795af4a045e2",
   "metadata": {},
   "source": [
    "# ES03\n",
    "## Noemi Baruffolo 5^AROB\n",
    "autoregressione"
   ]
  },
  {
   "cell_type": "code",
   "execution_count": 34,
   "id": "f553c6d4-3381-4a65-85f8-216f3f633526",
   "metadata": {},
   "outputs": [],
   "source": [
    "import random"
   ]
  },
  {
   "cell_type": "code",
   "execution_count": 35,
   "id": "bc8b1de4-7cfb-480f-ad08-542f75c68608",
   "metadata": {},
   "outputs": [],
   "source": [
    "def file2list(fileName = \"OSCAR_WILDE_Il_fantasma_di_Canterville.txt\"):\n",
    "    \"\"\"parametrs:\n",
    "       file: file name containing text\n",
    "       \n",
    "       return:\n",
    "       list of file rows\"\"\"\n",
    "    list = []\n",
    "    with open(fileName, \"r\") as f:\n",
    "        list = [r for r in f.readlines() if len(r) > 1]\n",
    "    return list\n",
    "    "
   ]
  },
  {
   "cell_type": "code",
   "execution_count": 36,
   "id": "5717bf35-0246-4525-9610-36f7437805f8",
   "metadata": {},
   "outputs": [],
   "source": [
    "#file2list? esce a cosa serve la funzione"
   ]
  },
  {
   "cell_type": "code",
   "execution_count": 37,
   "id": "d218f719-b2aa-470f-965f-fa5be1d7d52a",
   "metadata": {},
   "outputs": [],
   "source": [
    "def diz_char_nGram_lista(lista, n):\n",
    "    text = \"\".join(lista)\n",
    "    diz_n = {}\n",
    "\n",
    "    for pos in range(len(text)-n):\n",
    "        bi = text[pos:pos+n] #il valore di destra è escluso\n",
    "    c = text[pos+n]\n",
    "    if bi in diz_n:\n",
    "        diz_n[bi] = c\n",
    "    else:\n",
    "        diz_n[bi] = [c]\n",
    "    return diz_n"
   ]
  },
  {
   "cell_type": "code",
   "execution_count": 38,
   "id": "4c194560-ca67-47e8-bc7f-c99f6e956fc9",
   "metadata": {},
   "outputs": [],
   "source": [
    "list = file2list()\n",
    "startingSequence = \"parol\"\n",
    "num = len(startingSequence) #lunghezza nGramma\n",
    "diz = diz_char_nGram_lista(list, num)"
   ]
  },
  {
   "cell_type": "code",
   "execution_count": 39,
   "id": "4649bddb-f457-43d1-915c-b495b8fe1dfc",
   "metadata": {},
   "outputs": [
    {
     "ename": "KeyError",
     "evalue": "'parol'",
     "output_type": "error",
     "traceback": [
      "\u001b[1;31m---------------------------------------------------------------------------\u001b[0m",
      "\u001b[1;31mKeyError\u001b[0m                                  Traceback (most recent call last)",
      "Cell \u001b[1;32mIn[39], line 4\u001b[0m\n\u001b[0;32m      2\u001b[0m n \u001b[38;5;241m=\u001b[39m \u001b[38;5;241m1000\u001b[39m \u001b[38;5;66;03m#lunghezza del testo generato\u001b[39;00m\n\u001b[0;32m      3\u001b[0m \u001b[38;5;28;01mfor\u001b[39;00m i \u001b[38;5;129;01min\u001b[39;00m \u001b[38;5;28mrange\u001b[39m(\u001b[38;5;241m0\u001b[39m, n):\n\u001b[1;32m----> 4\u001b[0m     letter \u001b[38;5;241m=\u001b[39m random\u001b[38;5;241m.\u001b[39mchoice(diz[startingSequence[\u001b[38;5;241m-\u001b[39mnum:]])\n\u001b[0;32m      5\u001b[0m     startingSequence \u001b[38;5;241m+\u001b[39m\u001b[38;5;241m=\u001b[39m letter\n\u001b[0;32m      6\u001b[0m \u001b[38;5;28mprint\u001b[39m(startingSequence)\n",
      "\u001b[1;31mKeyError\u001b[0m: 'parol'"
     ]
    }
   ],
   "source": [
    "#questo modo di generare testo è: autoregressione\n",
    "n = 1000 #lunghezza del testo generato\n",
    "for i in range(0, n):\n",
    "    letter = random.choice(diz[startingSequence[-num:]])\n",
    "    startingSequence += letter\n",
    "print(startingSequence)"
   ]
  }
 ],
 "metadata": {
  "kernelspec": {
   "display_name": "Python 3 (ipykernel)",
   "language": "python",
   "name": "python3"
  },
  "language_info": {
   "codemirror_mode": {
    "name": "ipython",
    "version": 3
   },
   "file_extension": ".py",
   "mimetype": "text/x-python",
   "name": "python",
   "nbconvert_exporter": "python",
   "pygments_lexer": "ipython3",
   "version": "3.12.4"
  }
 },
 "nbformat": 4,
 "nbformat_minor": 5
}
